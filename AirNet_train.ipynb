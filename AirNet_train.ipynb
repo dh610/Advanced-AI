{
  "cells": [
    {
      "cell_type": "markdown",
      "metadata": {
        "id": "view-in-github",
        "colab_type": "text"
      },
      "source": [
        "<a href=\"https://colab.research.google.com/github/dh610/Advanced-AI/blob/main/AirNet_train.ipynb\" target=\"_parent\"><img src=\"https://colab.research.google.com/assets/colab-badge.svg\" alt=\"Open In Colab\"/></a>"
      ]
    },
    {
      "cell_type": "code",
      "source": [
        "from google.colab import drive\n",
        "drive.mount('/content/drive')"
      ],
      "metadata": {
        "colab": {
          "base_uri": "https://localhost:8080/"
        },
        "id": "3LeERkBIL1j8",
        "outputId": "996eb606-a8d8-4858-a5b3-49e07604501a"
      },
      "execution_count": 1,
      "outputs": [
        {
          "output_type": "stream",
          "name": "stdout",
          "text": [
            "Mounted at /content/drive\n"
          ]
        }
      ]
    },
    {
      "cell_type": "code",
      "source": [
        "!pip install fasttext"
      ],
      "metadata": {
        "id": "E4YhQj18HHv5",
        "outputId": "d1f9a444-5d99-414c-a2f7-71e8427a3c50",
        "colab": {
          "base_uri": "https://localhost:8080/"
        }
      },
      "execution_count": 2,
      "outputs": [
        {
          "output_type": "stream",
          "name": "stdout",
          "text": [
            "Collecting fasttext\n",
            "  Downloading fasttext-0.9.3.tar.gz (73 kB)\n",
            "\u001b[?25l     \u001b[90m━━━━━━━━━━━━━━━━━━━━━━━━━━━━━━━━━━━━━━━━\u001b[0m \u001b[32m0.0/73.4 kB\u001b[0m \u001b[31m?\u001b[0m eta \u001b[36m-:--:--\u001b[0m\r\u001b[2K     \u001b[90m━━━━━━━━━━━━━━━━━━━━━━━━━━━━━━━━━━━━━━━━\u001b[0m \u001b[32m73.4/73.4 kB\u001b[0m \u001b[31m2.3 MB/s\u001b[0m eta \u001b[36m0:00:00\u001b[0m\n",
            "\u001b[?25h  Installing build dependencies ... \u001b[?25l\u001b[?25hdone\n",
            "  Getting requirements to build wheel ... \u001b[?25l\u001b[?25hdone\n",
            "  Preparing metadata (pyproject.toml) ... \u001b[?25l\u001b[?25hdone\n",
            "Collecting pybind11>=2.2 (from fasttext)\n",
            "  Using cached pybind11-2.13.6-py3-none-any.whl.metadata (9.5 kB)\n",
            "Requirement already satisfied: setuptools>=0.7.0 in /usr/local/lib/python3.10/dist-packages (from fasttext) (71.0.4)\n",
            "Requirement already satisfied: numpy in /usr/local/lib/python3.10/dist-packages (from fasttext) (1.26.4)\n",
            "Using cached pybind11-2.13.6-py3-none-any.whl (243 kB)\n",
            "Building wheels for collected packages: fasttext\n",
            "  Building wheel for fasttext (pyproject.toml) ... \u001b[?25l\u001b[?25hdone\n",
            "  Created wheel for fasttext: filename=fasttext-0.9.3-cp310-cp310-linux_x86_64.whl size=4296182 sha256=baf8cb94507abb74ffff8ac5814139702d3d2a56e562800ee04aec6079e7129c\n",
            "  Stored in directory: /root/.cache/pip/wheels/0d/a2/00/81db54d3e6a8199b829d58e02cec2ddb20ce3e59fad8d3c92a\n",
            "Successfully built fasttext\n",
            "Installing collected packages: pybind11, fasttext\n",
            "Successfully installed fasttext-0.9.3 pybind11-2.13.6\n"
          ]
        }
      ]
    },
    {
      "cell_type": "code",
      "source": [
        "import sys\n",
        "import os\n",
        "\n",
        "os.chdir(\"/content/drive/MyDrive/Advanced-AI/\")\n",
        "!git pull\n",
        "os.chdir(\"/content/drive/MyDrive/Advanced-AI/AirNet\")"
      ],
      "metadata": {
        "id": "kr8sQ0b2QVsK",
        "outputId": "14fbb5ea-2042-4218-ad3f-3bd9071776bc",
        "colab": {
          "base_uri": "https://localhost:8080/"
        }
      },
      "execution_count": 12,
      "outputs": [
        {
          "output_type": "stream",
          "name": "stdout",
          "text": [
            "remote: Enumerating objects: 9, done.\u001b[K\n",
            "remote: Counting objects:  11% (1/9)\u001b[K\rremote: Counting objects:  22% (2/9)\u001b[K\rremote: Counting objects:  33% (3/9)\u001b[K\rremote: Counting objects:  44% (4/9)\u001b[K\rremote: Counting objects:  55% (5/9)\u001b[K\rremote: Counting objects:  66% (6/9)\u001b[K\rremote: Counting objects:  77% (7/9)\u001b[K\rremote: Counting objects:  88% (8/9)\u001b[K\rremote: Counting objects: 100% (9/9)\u001b[K\rremote: Counting objects: 100% (9/9), done.\u001b[K\n",
            "remote: Compressing objects: 100% (1/1)\u001b[K\rremote: Compressing objects: 100% (1/1), done.\u001b[K\n",
            "remote: Total 5 (delta 4), reused 5 (delta 4), pack-reused 0 (from 0)\u001b[K\n",
            "Unpacking objects: 100% (5/5), 387 bytes | 1024 bytes/s, done.\n",
            "From https://github.com/dh610/Advanced-AI\n",
            "   69a79ea..9f7f495  main       -> origin/main\n",
            "Updating 69a79ea..9f7f495\n",
            "Fast-forward\n",
            " AirNet/utils/ckpt_utils.py | 4 \u001b[32m+\u001b[m\u001b[31m---\u001b[m\n",
            " 1 file changed, 1 insertion(+), 3 deletions(-)\n"
          ]
        }
      ]
    },
    {
      "cell_type": "code",
      "source": [
        "!python3 train.py"
      ],
      "metadata": {
        "id": "v-epJXo4Bb7h",
        "outputId": "e8cd44a1-410b-43f7-8b7a-41ed530b74e9",
        "colab": {
          "base_uri": "https://localhost:8080/"
        }
      },
      "execution_count": 13,
      "outputs": [
        {
          "output_type": "stream",
          "name": "stdout",
          "text": [
            "/content/drive/MyDrive/Advanced-AI/AirNet/utils/ckpt_utils.py:20: FutureWarning: You are using `torch.load` with `weights_only=False` (the current default value), which uses the default pickle module implicitly. It is possible to construct malicious pickle data which will execute arbitrary code during unpickling (See https://github.com/pytorch/pytorch/blob/main/SECURITY.md#untrusted-models for more details). In a future release, the default value for `weights_only` will be flipped to `True`. This limits the functions that could be executed during unpickling. Arbitrary objects will no longer be allowed to be loaded via this mode unless they are explicitly allowlisted by the user via `torch.serialization.add_safe_globals`. We recommend you start setting `weights_only=True` for any use case where you don't have full control of the loaded file. Please open an issue on GitHub for any issues related to this experimental feature.\n",
            "  model_info = torch.load(ckpt_name)\n",
            "==> loading existing Embedder model: ../OneRestore/ckpts/embedder_model.tar\n",
            "Loaded embeddings from file ../OneRestore/utils/glove.6B.300d.txt torch.Size([12, 300])\n",
            "Loading checkpoint: epoch_100.pth\n",
            "/content/drive/MyDrive/Advanced-AI/AirNet/utils/ckpt_utils.py:58: FutureWarning: You are using `torch.load` with `weights_only=False` (the current default value), which uses the default pickle module implicitly. It is possible to construct malicious pickle data which will execute arbitrary code during unpickling (See https://github.com/pytorch/pytorch/blob/main/SECURITY.md#untrusted-models for more details). In a future release, the default value for `weights_only` will be flipped to `True`. This limits the functions that could be executed during unpickling. Arbitrary objects will no longer be allowed to be loaded via this mode unless they are explicitly allowlisted by the user via `torch.serialization.add_safe_globals`. We recommend you start setting `weights_only=True` for any use case where you don't have full control of the loaded file. Please open an issue on GitHub for any issues related to this experimental feature.\n",
            "  checkpoint = torch.load(os.path.join(ckpt_path, latest_checkpoint))\n",
            "odict_keys(['R.head.0.weight', 'R.head.0.bias', 'R.body.0.body.0.dgm1.dcn.weight', 'R.body.0.body.0.dgm1.dcn.conv_offset_mask.weight', 'R.body.0.body.0.dgm1.dcn.conv_offset_mask.bias', 'R.body.0.body.0.dgm1.sft.conv_gamma.0.weight', 'R.body.0.body.0.dgm1.sft.conv_gamma.2.weight', 'R.body.0.body.0.dgm1.sft.conv_beta.0.weight', 'R.body.0.body.0.dgm1.sft.conv_beta.2.weight', 'R.body.0.body.0.dgm2.dcn.weight', 'R.body.0.body.0.dgm2.dcn.conv_offset_mask.weight', 'R.body.0.body.0.dgm2.dcn.conv_offset_mask.bias', 'R.body.0.body.0.dgm2.sft.conv_gamma.0.weight', 'R.body.0.body.0.dgm2.sft.conv_gamma.2.weight', 'R.body.0.body.0.dgm2.sft.conv_beta.0.weight', 'R.body.0.body.0.dgm2.sft.conv_beta.2.weight', 'R.body.0.body.0.conv1.weight', 'R.body.0.body.0.conv1.bias', 'R.body.0.body.0.conv2.weight', 'R.body.0.body.0.conv2.bias', 'R.body.0.body.1.dgm1.dcn.weight', 'R.body.0.body.1.dgm1.dcn.conv_offset_mask.weight', 'R.body.0.body.1.dgm1.dcn.conv_offset_mask.bias', 'R.body.0.body.1.dgm1.sft.conv_gamma.0.weight', 'R.body.0.body.1.dgm1.sft.conv_gamma.2.weight', 'R.body.0.body.1.dgm1.sft.conv_beta.0.weight', 'R.body.0.body.1.dgm1.sft.conv_beta.2.weight', 'R.body.0.body.1.dgm2.dcn.weight', 'R.body.0.body.1.dgm2.dcn.conv_offset_mask.weight', 'R.body.0.body.1.dgm2.dcn.conv_offset_mask.bias', 'R.body.0.body.1.dgm2.sft.conv_gamma.0.weight', 'R.body.0.body.1.dgm2.sft.conv_gamma.2.weight', 'R.body.0.body.1.dgm2.sft.conv_beta.0.weight', 'R.body.0.body.1.dgm2.sft.conv_beta.2.weight', 'R.body.0.body.1.conv1.weight', 'R.body.0.body.1.conv1.bias', 'R.body.0.body.1.conv2.weight', 'R.body.0.body.1.conv2.bias', 'R.body.0.body.2.dgm1.dcn.weight', 'R.body.0.body.2.dgm1.dcn.conv_offset_mask.weight', 'R.body.0.body.2.dgm1.dcn.conv_offset_mask.bias', 'R.body.0.body.2.dgm1.sft.conv_gamma.0.weight', 'R.body.0.body.2.dgm1.sft.conv_gamma.2.weight', 'R.body.0.body.2.dgm1.sft.conv_beta.0.weight', 'R.body.0.body.2.dgm1.sft.conv_beta.2.weight', 'R.body.0.body.2.dgm2.dcn.weight', 'R.body.0.body.2.dgm2.dcn.conv_offset_mask.weight', 'R.body.0.body.2.dgm2.dcn.conv_offset_mask.bias', 'R.body.0.body.2.dgm2.sft.conv_gamma.0.weight', 'R.body.0.body.2.dgm2.sft.conv_gamma.2.weight', 'R.body.0.body.2.dgm2.sft.conv_beta.0.weight', 'R.body.0.body.2.dgm2.sft.conv_beta.2.weight', 'R.body.0.body.2.conv1.weight', 'R.body.0.body.2.conv1.bias', 'R.body.0.body.2.conv2.weight', 'R.body.0.body.2.conv2.bias', 'R.body.0.body.3.dgm1.dcn.weight', 'R.body.0.body.3.dgm1.dcn.conv_offset_mask.weight', 'R.body.0.body.3.dgm1.dcn.conv_offset_mask.bias', 'R.body.0.body.3.dgm1.sft.conv_gamma.0.weight', 'R.body.0.body.3.dgm1.sft.conv_gamma.2.weight', 'R.body.0.body.3.dgm1.sft.conv_beta.0.weight', 'R.body.0.body.3.dgm1.sft.conv_beta.2.weight', 'R.body.0.body.3.dgm2.dcn.weight', 'R.body.0.body.3.dgm2.dcn.conv_offset_mask.weight', 'R.body.0.body.3.dgm2.dcn.conv_offset_mask.bias', 'R.body.0.body.3.dgm2.sft.conv_gamma.0.weight', 'R.body.0.body.3.dgm2.sft.conv_gamma.2.weight', 'R.body.0.body.3.dgm2.sft.conv_beta.0.weight', 'R.body.0.body.3.dgm2.sft.conv_beta.2.weight', 'R.body.0.body.3.conv1.weight', 'R.body.0.body.3.conv1.bias', 'R.body.0.body.3.conv2.weight', 'R.body.0.body.3.conv2.bias', 'R.body.0.body.4.dgm1.dcn.weight', 'R.body.0.body.4.dgm1.dcn.conv_offset_mask.weight', 'R.body.0.body.4.dgm1.dcn.conv_offset_mask.bias', 'R.body.0.body.4.dgm1.sft.conv_gamma.0.weight', 'R.body.0.body.4.dgm1.sft.conv_gamma.2.weight', 'R.body.0.body.4.dgm1.sft.conv_beta.0.weight', 'R.body.0.body.4.dgm1.sft.conv_beta.2.weight', 'R.body.0.body.4.dgm2.dcn.weight', 'R.body.0.body.4.dgm2.dcn.conv_offset_mask.weight', 'R.body.0.body.4.dgm2.dcn.conv_offset_mask.bias', 'R.body.0.body.4.dgm2.sft.conv_gamma.0.weight', 'R.body.0.body.4.dgm2.sft.conv_gamma.2.weight', 'R.body.0.body.4.dgm2.sft.conv_beta.0.weight', 'R.body.0.body.4.dgm2.sft.conv_beta.2.weight', 'R.body.0.body.4.conv1.weight', 'R.body.0.body.4.conv1.bias', 'R.body.0.body.4.conv2.weight', 'R.body.0.body.4.conv2.bias', 'R.body.0.body.5.weight', 'R.body.0.body.5.bias', 'R.body.1.body.0.dgm1.dcn.weight', 'R.body.1.body.0.dgm1.dcn.conv_offset_mask.weight', 'R.body.1.body.0.dgm1.dcn.conv_offset_mask.bias', 'R.body.1.body.0.dgm1.sft.conv_gamma.0.weight', 'R.body.1.body.0.dgm1.sft.conv_gamma.2.weight', 'R.body.1.body.0.dgm1.sft.conv_beta.0.weight', 'R.body.1.body.0.dgm1.sft.conv_beta.2.weight', 'R.body.1.body.0.dgm2.dcn.weight', 'R.body.1.body.0.dgm2.dcn.conv_offset_mask.weight', 'R.body.1.body.0.dgm2.dcn.conv_offset_mask.bias', 'R.body.1.body.0.dgm2.sft.conv_gamma.0.weight', 'R.body.1.body.0.dgm2.sft.conv_gamma.2.weight', 'R.body.1.body.0.dgm2.sft.conv_beta.0.weight', 'R.body.1.body.0.dgm2.sft.conv_beta.2.weight', 'R.body.1.body.0.conv1.weight', 'R.body.1.body.0.conv1.bias', 'R.body.1.body.0.conv2.weight', 'R.body.1.body.0.conv2.bias', 'R.body.1.body.1.dgm1.dcn.weight', 'R.body.1.body.1.dgm1.dcn.conv_offset_mask.weight', 'R.body.1.body.1.dgm1.dcn.conv_offset_mask.bias', 'R.body.1.body.1.dgm1.sft.conv_gamma.0.weight', 'R.body.1.body.1.dgm1.sft.conv_gamma.2.weight', 'R.body.1.body.1.dgm1.sft.conv_beta.0.weight', 'R.body.1.body.1.dgm1.sft.conv_beta.2.weight', 'R.body.1.body.1.dgm2.dcn.weight', 'R.body.1.body.1.dgm2.dcn.conv_offset_mask.weight', 'R.body.1.body.1.dgm2.dcn.conv_offset_mask.bias', 'R.body.1.body.1.dgm2.sft.conv_gamma.0.weight', 'R.body.1.body.1.dgm2.sft.conv_gamma.2.weight', 'R.body.1.body.1.dgm2.sft.conv_beta.0.weight', 'R.body.1.body.1.dgm2.sft.conv_beta.2.weight', 'R.body.1.body.1.conv1.weight', 'R.body.1.body.1.conv1.bias', 'R.body.1.body.1.conv2.weight', 'R.body.1.body.1.conv2.bias', 'R.body.1.body.2.dgm1.dcn.weight', 'R.body.1.body.2.dgm1.dcn.conv_offset_mask.weight', 'R.body.1.body.2.dgm1.dcn.conv_offset_mask.bias', 'R.body.1.body.2.dgm1.sft.conv_gamma.0.weight', 'R.body.1.body.2.dgm1.sft.conv_gamma.2.weight', 'R.body.1.body.2.dgm1.sft.conv_beta.0.weight', 'R.body.1.body.2.dgm1.sft.conv_beta.2.weight', 'R.body.1.body.2.dgm2.dcn.weight', 'R.body.1.body.2.dgm2.dcn.conv_offset_mask.weight', 'R.body.1.body.2.dgm2.dcn.conv_offset_mask.bias', 'R.body.1.body.2.dgm2.sft.conv_gamma.0.weight', 'R.body.1.body.2.dgm2.sft.conv_gamma.2.weight', 'R.body.1.body.2.dgm2.sft.conv_beta.0.weight', 'R.body.1.body.2.dgm2.sft.conv_beta.2.weight', 'R.body.1.body.2.conv1.weight', 'R.body.1.body.2.conv1.bias', 'R.body.1.body.2.conv2.weight', 'R.body.1.body.2.conv2.bias', 'R.body.1.body.3.dgm1.dcn.weight', 'R.body.1.body.3.dgm1.dcn.conv_offset_mask.weight', 'R.body.1.body.3.dgm1.dcn.conv_offset_mask.bias', 'R.body.1.body.3.dgm1.sft.conv_gamma.0.weight', 'R.body.1.body.3.dgm1.sft.conv_gamma.2.weight', 'R.body.1.body.3.dgm1.sft.conv_beta.0.weight', 'R.body.1.body.3.dgm1.sft.conv_beta.2.weight', 'R.body.1.body.3.dgm2.dcn.weight', 'R.body.1.body.3.dgm2.dcn.conv_offset_mask.weight', 'R.body.1.body.3.dgm2.dcn.conv_offset_mask.bias', 'R.body.1.body.3.dgm2.sft.conv_gamma.0.weight', 'R.body.1.body.3.dgm2.sft.conv_gamma.2.weight', 'R.body.1.body.3.dgm2.sft.conv_beta.0.weight', 'R.body.1.body.3.dgm2.sft.conv_beta.2.weight', 'R.body.1.body.3.conv1.weight', 'R.body.1.body.3.conv1.bias', 'R.body.1.body.3.conv2.weight', 'R.body.1.body.3.conv2.bias', 'R.body.1.body.4.dgm1.dcn.weight', 'R.body.1.body.4.dgm1.dcn.conv_offset_mask.weight', 'R.body.1.body.4.dgm1.dcn.conv_offset_mask.bias', 'R.body.1.body.4.dgm1.sft.conv_gamma.0.weight', 'R.body.1.body.4.dgm1.sft.conv_gamma.2.weight', 'R.body.1.body.4.dgm1.sft.conv_beta.0.weight', 'R.body.1.body.4.dgm1.sft.conv_beta.2.weight', 'R.body.1.body.4.dgm2.dcn.weight', 'R.body.1.body.4.dgm2.dcn.conv_offset_mask.weight', 'R.body.1.body.4.dgm2.dcn.conv_offset_mask.bias', 'R.body.1.body.4.dgm2.sft.conv_gamma.0.weight', 'R.body.1.body.4.dgm2.sft.conv_gamma.2.weight', 'R.body.1.body.4.dgm2.sft.conv_beta.0.weight', 'R.body.1.body.4.dgm2.sft.conv_beta.2.weight', 'R.body.1.body.4.conv1.weight', 'R.body.1.body.4.conv1.bias', 'R.body.1.body.4.conv2.weight', 'R.body.1.body.4.conv2.bias', 'R.body.1.body.5.weight', 'R.body.1.body.5.bias', 'R.body.2.body.0.dgm1.dcn.weight', 'R.body.2.body.0.dgm1.dcn.conv_offset_mask.weight', 'R.body.2.body.0.dgm1.dcn.conv_offset_mask.bias', 'R.body.2.body.0.dgm1.sft.conv_gamma.0.weight', 'R.body.2.body.0.dgm1.sft.conv_gamma.2.weight', 'R.body.2.body.0.dgm1.sft.conv_beta.0.weight', 'R.body.2.body.0.dgm1.sft.conv_beta.2.weight', 'R.body.2.body.0.dgm2.dcn.weight', 'R.body.2.body.0.dgm2.dcn.conv_offset_mask.weight', 'R.body.2.body.0.dgm2.dcn.conv_offset_mask.bias', 'R.body.2.body.0.dgm2.sft.conv_gamma.0.weight', 'R.body.2.body.0.dgm2.sft.conv_gamma.2.weight', 'R.body.2.body.0.dgm2.sft.conv_beta.0.weight', 'R.body.2.body.0.dgm2.sft.conv_beta.2.weight', 'R.body.2.body.0.conv1.weight', 'R.body.2.body.0.conv1.bias', 'R.body.2.body.0.conv2.weight', 'R.body.2.body.0.conv2.bias', 'R.body.2.body.1.dgm1.dcn.weight', 'R.body.2.body.1.dgm1.dcn.conv_offset_mask.weight', 'R.body.2.body.1.dgm1.dcn.conv_offset_mask.bias', 'R.body.2.body.1.dgm1.sft.conv_gamma.0.weight', 'R.body.2.body.1.dgm1.sft.conv_gamma.2.weight', 'R.body.2.body.1.dgm1.sft.conv_beta.0.weight', 'R.body.2.body.1.dgm1.sft.conv_beta.2.weight', 'R.body.2.body.1.dgm2.dcn.weight', 'R.body.2.body.1.dgm2.dcn.conv_offset_mask.weight', 'R.body.2.body.1.dgm2.dcn.conv_offset_mask.bias', 'R.body.2.body.1.dgm2.sft.conv_gamma.0.weight', 'R.body.2.body.1.dgm2.sft.conv_gamma.2.weight', 'R.body.2.body.1.dgm2.sft.conv_beta.0.weight', 'R.body.2.body.1.dgm2.sft.conv_beta.2.weight', 'R.body.2.body.1.conv1.weight', 'R.body.2.body.1.conv1.bias', 'R.body.2.body.1.conv2.weight', 'R.body.2.body.1.conv2.bias', 'R.body.2.body.2.dgm1.dcn.weight', 'R.body.2.body.2.dgm1.dcn.conv_offset_mask.weight', 'R.body.2.body.2.dgm1.dcn.conv_offset_mask.bias', 'R.body.2.body.2.dgm1.sft.conv_gamma.0.weight', 'R.body.2.body.2.dgm1.sft.conv_gamma.2.weight', 'R.body.2.body.2.dgm1.sft.conv_beta.0.weight', 'R.body.2.body.2.dgm1.sft.conv_beta.2.weight', 'R.body.2.body.2.dgm2.dcn.weight', 'R.body.2.body.2.dgm2.dcn.conv_offset_mask.weight', 'R.body.2.body.2.dgm2.dcn.conv_offset_mask.bias', 'R.body.2.body.2.dgm2.sft.conv_gamma.0.weight', 'R.body.2.body.2.dgm2.sft.conv_gamma.2.weight', 'R.body.2.body.2.dgm2.sft.conv_beta.0.weight', 'R.body.2.body.2.dgm2.sft.conv_beta.2.weight', 'R.body.2.body.2.conv1.weight', 'R.body.2.body.2.conv1.bias', 'R.body.2.body.2.conv2.weight', 'R.body.2.body.2.conv2.bias', 'R.body.2.body.3.dgm1.dcn.weight', 'R.body.2.body.3.dgm1.dcn.conv_offset_mask.weight', 'R.body.2.body.3.dgm1.dcn.conv_offset_mask.bias', 'R.body.2.body.3.dgm1.sft.conv_gamma.0.weight', 'R.body.2.body.3.dgm1.sft.conv_gamma.2.weight', 'R.body.2.body.3.dgm1.sft.conv_beta.0.weight', 'R.body.2.body.3.dgm1.sft.conv_beta.2.weight', 'R.body.2.body.3.dgm2.dcn.weight', 'R.body.2.body.3.dgm2.dcn.conv_offset_mask.weight', 'R.body.2.body.3.dgm2.dcn.conv_offset_mask.bias', 'R.body.2.body.3.dgm2.sft.conv_gamma.0.weight', 'R.body.2.body.3.dgm2.sft.conv_gamma.2.weight', 'R.body.2.body.3.dgm2.sft.conv_beta.0.weight', 'R.body.2.body.3.dgm2.sft.conv_beta.2.weight', 'R.body.2.body.3.conv1.weight', 'R.body.2.body.3.conv1.bias', 'R.body.2.body.3.conv2.weight', 'R.body.2.body.3.conv2.bias', 'R.body.2.body.4.dgm1.dcn.weight', 'R.body.2.body.4.dgm1.dcn.conv_offset_mask.weight', 'R.body.2.body.4.dgm1.dcn.conv_offset_mask.bias', 'R.body.2.body.4.dgm1.sft.conv_gamma.0.weight', 'R.body.2.body.4.dgm1.sft.conv_gamma.2.weight', 'R.body.2.body.4.dgm1.sft.conv_beta.0.weight', 'R.body.2.body.4.dgm1.sft.conv_beta.2.weight', 'R.body.2.body.4.dgm2.dcn.weight', 'R.body.2.body.4.dgm2.dcn.conv_offset_mask.weight', 'R.body.2.body.4.dgm2.dcn.conv_offset_mask.bias', 'R.body.2.body.4.dgm2.sft.conv_gamma.0.weight', 'R.body.2.body.4.dgm2.sft.conv_gamma.2.weight', 'R.body.2.body.4.dgm2.sft.conv_beta.0.weight', 'R.body.2.body.4.dgm2.sft.conv_beta.2.weight', 'R.body.2.body.4.conv1.weight', 'R.body.2.body.4.conv1.bias', 'R.body.2.body.4.conv2.weight', 'R.body.2.body.4.conv2.bias', 'R.body.2.body.5.weight', 'R.body.2.body.5.bias', 'R.body.3.body.0.dgm1.dcn.weight', 'R.body.3.body.0.dgm1.dcn.conv_offset_mask.weight', 'R.body.3.body.0.dgm1.dcn.conv_offset_mask.bias', 'R.body.3.body.0.dgm1.sft.conv_gamma.0.weight', 'R.body.3.body.0.dgm1.sft.conv_gamma.2.weight', 'R.body.3.body.0.dgm1.sft.conv_beta.0.weight', 'R.body.3.body.0.dgm1.sft.conv_beta.2.weight', 'R.body.3.body.0.dgm2.dcn.weight', 'R.body.3.body.0.dgm2.dcn.conv_offset_mask.weight', 'R.body.3.body.0.dgm2.dcn.conv_offset_mask.bias', 'R.body.3.body.0.dgm2.sft.conv_gamma.0.weight', 'R.body.3.body.0.dgm2.sft.conv_gamma.2.weight', 'R.body.3.body.0.dgm2.sft.conv_beta.0.weight', 'R.body.3.body.0.dgm2.sft.conv_beta.2.weight', 'R.body.3.body.0.conv1.weight', 'R.body.3.body.0.conv1.bias', 'R.body.3.body.0.conv2.weight', 'R.body.3.body.0.conv2.bias', 'R.body.3.body.1.dgm1.dcn.weight', 'R.body.3.body.1.dgm1.dcn.conv_offset_mask.weight', 'R.body.3.body.1.dgm1.dcn.conv_offset_mask.bias', 'R.body.3.body.1.dgm1.sft.conv_gamma.0.weight', 'R.body.3.body.1.dgm1.sft.conv_gamma.2.weight', 'R.body.3.body.1.dgm1.sft.conv_beta.0.weight', 'R.body.3.body.1.dgm1.sft.conv_beta.2.weight', 'R.body.3.body.1.dgm2.dcn.weight', 'R.body.3.body.1.dgm2.dcn.conv_offset_mask.weight', 'R.body.3.body.1.dgm2.dcn.conv_offset_mask.bias', 'R.body.3.body.1.dgm2.sft.conv_gamma.0.weight', 'R.body.3.body.1.dgm2.sft.conv_gamma.2.weight', 'R.body.3.body.1.dgm2.sft.conv_beta.0.weight', 'R.body.3.body.1.dgm2.sft.conv_beta.2.weight', 'R.body.3.body.1.conv1.weight', 'R.body.3.body.1.conv1.bias', 'R.body.3.body.1.conv2.weight', 'R.body.3.body.1.conv2.bias', 'R.body.3.body.2.dgm1.dcn.weight', 'R.body.3.body.2.dgm1.dcn.conv_offset_mask.weight', 'R.body.3.body.2.dgm1.dcn.conv_offset_mask.bias', 'R.body.3.body.2.dgm1.sft.conv_gamma.0.weight', 'R.body.3.body.2.dgm1.sft.conv_gamma.2.weight', 'R.body.3.body.2.dgm1.sft.conv_beta.0.weight', 'R.body.3.body.2.dgm1.sft.conv_beta.2.weight', 'R.body.3.body.2.dgm2.dcn.weight', 'R.body.3.body.2.dgm2.dcn.conv_offset_mask.weight', 'R.body.3.body.2.dgm2.dcn.conv_offset_mask.bias', 'R.body.3.body.2.dgm2.sft.conv_gamma.0.weight', 'R.body.3.body.2.dgm2.sft.conv_gamma.2.weight', 'R.body.3.body.2.dgm2.sft.conv_beta.0.weight', 'R.body.3.body.2.dgm2.sft.conv_beta.2.weight', 'R.body.3.body.2.conv1.weight', 'R.body.3.body.2.conv1.bias', 'R.body.3.body.2.conv2.weight', 'R.body.3.body.2.conv2.bias', 'R.body.3.body.3.dgm1.dcn.weight', 'R.body.3.body.3.dgm1.dcn.conv_offset_mask.weight', 'R.body.3.body.3.dgm1.dcn.conv_offset_mask.bias', 'R.body.3.body.3.dgm1.sft.conv_gamma.0.weight', 'R.body.3.body.3.dgm1.sft.conv_gamma.2.weight', 'R.body.3.body.3.dgm1.sft.conv_beta.0.weight', 'R.body.3.body.3.dgm1.sft.conv_beta.2.weight', 'R.body.3.body.3.dgm2.dcn.weight', 'R.body.3.body.3.dgm2.dcn.conv_offset_mask.weight', 'R.body.3.body.3.dgm2.dcn.conv_offset_mask.bias', 'R.body.3.body.3.dgm2.sft.conv_gamma.0.weight', 'R.body.3.body.3.dgm2.sft.conv_gamma.2.weight', 'R.body.3.body.3.dgm2.sft.conv_beta.0.weight', 'R.body.3.body.3.dgm2.sft.conv_beta.2.weight', 'R.body.3.body.3.conv1.weight', 'R.body.3.body.3.conv1.bias', 'R.body.3.body.3.conv2.weight', 'R.body.3.body.3.conv2.bias', 'R.body.3.body.4.dgm1.dcn.weight', 'R.body.3.body.4.dgm1.dcn.conv_offset_mask.weight', 'R.body.3.body.4.dgm1.dcn.conv_offset_mask.bias', 'R.body.3.body.4.dgm1.sft.conv_gamma.0.weight', 'R.body.3.body.4.dgm1.sft.conv_gamma.2.weight', 'R.body.3.body.4.dgm1.sft.conv_beta.0.weight', 'R.body.3.body.4.dgm1.sft.conv_beta.2.weight', 'R.body.3.body.4.dgm2.dcn.weight', 'R.body.3.body.4.dgm2.dcn.conv_offset_mask.weight', 'R.body.3.body.4.dgm2.dcn.conv_offset_mask.bias', 'R.body.3.body.4.dgm2.sft.conv_gamma.0.weight', 'R.body.3.body.4.dgm2.sft.conv_gamma.2.weight', 'R.body.3.body.4.dgm2.sft.conv_beta.0.weight', 'R.body.3.body.4.dgm2.sft.conv_beta.2.weight', 'R.body.3.body.4.conv1.weight', 'R.body.3.body.4.conv1.bias', 'R.body.3.body.4.conv2.weight', 'R.body.3.body.4.conv2.bias', 'R.body.3.body.5.weight', 'R.body.3.body.5.bias', 'R.body.4.body.0.dgm1.dcn.weight', 'R.body.4.body.0.dgm1.dcn.conv_offset_mask.weight', 'R.body.4.body.0.dgm1.dcn.conv_offset_mask.bias', 'R.body.4.body.0.dgm1.sft.conv_gamma.0.weight', 'R.body.4.body.0.dgm1.sft.conv_gamma.2.weight', 'R.body.4.body.0.dgm1.sft.conv_beta.0.weight', 'R.body.4.body.0.dgm1.sft.conv_beta.2.weight', 'R.body.4.body.0.dgm2.dcn.weight', 'R.body.4.body.0.dgm2.dcn.conv_offset_mask.weight', 'R.body.4.body.0.dgm2.dcn.conv_offset_mask.bias', 'R.body.4.body.0.dgm2.sft.conv_gamma.0.weight', 'R.body.4.body.0.dgm2.sft.conv_gamma.2.weight', 'R.body.4.body.0.dgm2.sft.conv_beta.0.weight', 'R.body.4.body.0.dgm2.sft.conv_beta.2.weight', 'R.body.4.body.0.conv1.weight', 'R.body.4.body.0.conv1.bias', 'R.body.4.body.0.conv2.weight', 'R.body.4.body.0.conv2.bias', 'R.body.4.body.1.dgm1.dcn.weight', 'R.body.4.body.1.dgm1.dcn.conv_offset_mask.weight', 'R.body.4.body.1.dgm1.dcn.conv_offset_mask.bias', 'R.body.4.body.1.dgm1.sft.conv_gamma.0.weight', 'R.body.4.body.1.dgm1.sft.conv_gamma.2.weight', 'R.body.4.body.1.dgm1.sft.conv_beta.0.weight', 'R.body.4.body.1.dgm1.sft.conv_beta.2.weight', 'R.body.4.body.1.dgm2.dcn.weight', 'R.body.4.body.1.dgm2.dcn.conv_offset_mask.weight', 'R.body.4.body.1.dgm2.dcn.conv_offset_mask.bias', 'R.body.4.body.1.dgm2.sft.conv_gamma.0.weight', 'R.body.4.body.1.dgm2.sft.conv_gamma.2.weight', 'R.body.4.body.1.dgm2.sft.conv_beta.0.weight', 'R.body.4.body.1.dgm2.sft.conv_beta.2.weight', 'R.body.4.body.1.conv1.weight', 'R.body.4.body.1.conv1.bias', 'R.body.4.body.1.conv2.weight', 'R.body.4.body.1.conv2.bias', 'R.body.4.body.2.dgm1.dcn.weight', 'R.body.4.body.2.dgm1.dcn.conv_offset_mask.weight', 'R.body.4.body.2.dgm1.dcn.conv_offset_mask.bias', 'R.body.4.body.2.dgm1.sft.conv_gamma.0.weight', 'R.body.4.body.2.dgm1.sft.conv_gamma.2.weight', 'R.body.4.body.2.dgm1.sft.conv_beta.0.weight', 'R.body.4.body.2.dgm1.sft.conv_beta.2.weight', 'R.body.4.body.2.dgm2.dcn.weight', 'R.body.4.body.2.dgm2.dcn.conv_offset_mask.weight', 'R.body.4.body.2.dgm2.dcn.conv_offset_mask.bias', 'R.body.4.body.2.dgm2.sft.conv_gamma.0.weight', 'R.body.4.body.2.dgm2.sft.conv_gamma.2.weight', 'R.body.4.body.2.dgm2.sft.conv_beta.0.weight', 'R.body.4.body.2.dgm2.sft.conv_beta.2.weight', 'R.body.4.body.2.conv1.weight', 'R.body.4.body.2.conv1.bias', 'R.body.4.body.2.conv2.weight', 'R.body.4.body.2.conv2.bias', 'R.body.4.body.3.dgm1.dcn.weight', 'R.body.4.body.3.dgm1.dcn.conv_offset_mask.weight', 'R.body.4.body.3.dgm1.dcn.conv_offset_mask.bias', 'R.body.4.body.3.dgm1.sft.conv_gamma.0.weight', 'R.body.4.body.3.dgm1.sft.conv_gamma.2.weight', 'R.body.4.body.3.dgm1.sft.conv_beta.0.weight', 'R.body.4.body.3.dgm1.sft.conv_beta.2.weight', 'R.body.4.body.3.dgm2.dcn.weight', 'R.body.4.body.3.dgm2.dcn.conv_offset_mask.weight', 'R.body.4.body.3.dgm2.dcn.conv_offset_mask.bias', 'R.body.4.body.3.dgm2.sft.conv_gamma.0.weight', 'R.body.4.body.3.dgm2.sft.conv_gamma.2.weight', 'R.body.4.body.3.dgm2.sft.conv_beta.0.weight', 'R.body.4.body.3.dgm2.sft.conv_beta.2.weight', 'R.body.4.body.3.conv1.weight', 'R.body.4.body.3.conv1.bias', 'R.body.4.body.3.conv2.weight', 'R.body.4.body.3.conv2.bias', 'R.body.4.body.4.dgm1.dcn.weight', 'R.body.4.body.4.dgm1.dcn.conv_offset_mask.weight', 'R.body.4.body.4.dgm1.dcn.conv_offset_mask.bias', 'R.body.4.body.4.dgm1.sft.conv_gamma.0.weight', 'R.body.4.body.4.dgm1.sft.conv_gamma.2.weight', 'R.body.4.body.4.dgm1.sft.conv_beta.0.weight', 'R.body.4.body.4.dgm1.sft.conv_beta.2.weight', 'R.body.4.body.4.dgm2.dcn.weight', 'R.body.4.body.4.dgm2.dcn.conv_offset_mask.weight', 'R.body.4.body.4.dgm2.dcn.conv_offset_mask.bias', 'R.body.4.body.4.dgm2.sft.conv_gamma.0.weight', 'R.body.4.body.4.dgm2.sft.conv_gamma.2.weight', 'R.body.4.body.4.dgm2.sft.conv_beta.0.weight', 'R.body.4.body.4.dgm2.sft.conv_beta.2.weight', 'R.body.4.body.4.conv1.weight', 'R.body.4.body.4.conv1.bias', 'R.body.4.body.4.conv2.weight', 'R.body.4.body.4.conv2.bias', 'R.body.4.body.5.weight', 'R.body.4.body.5.bias', 'R.body.5.weight', 'R.body.5.bias', 'R.tail.0.weight', 'R.tail.0.bias', 'E.cross_attention.img_linear.weight', 'E.cross_attention.img_linear.bias', 'E.cross_attention.text_linear.weight', 'E.cross_attention.text_linear.bias', 'E.cross_attention.attention.in_proj_weight', 'E.cross_attention.attention.in_proj_bias', 'E.cross_attention.attention.out_proj.weight', 'E.cross_attention.attention.out_proj.bias', 'E.cross_attention.output_linear.weight', 'E.cross_attention.output_linear.bias', 'E.E.queue', 'E.E.queue_ptr', 'E.E.encoder_q.E_pre.backbone.0.weight', 'E.E.encoder_q.E_pre.backbone.1.weight', 'E.E.encoder_q.E_pre.backbone.1.bias', 'E.E.encoder_q.E_pre.backbone.1.running_mean', 'E.E.encoder_q.E_pre.backbone.1.running_var', 'E.E.encoder_q.E_pre.backbone.1.num_batches_tracked', 'E.E.encoder_q.E_pre.backbone.3.weight', 'E.E.encoder_q.E_pre.backbone.4.weight', 'E.E.encoder_q.E_pre.backbone.4.bias', 'E.E.encoder_q.E_pre.backbone.4.running_mean', 'E.E.encoder_q.E_pre.backbone.4.running_var', 'E.E.encoder_q.E_pre.backbone.4.num_batches_tracked', 'E.E.encoder_q.E_pre.shortcut.0.weight', 'E.E.encoder_q.E_pre.shortcut.1.weight', 'E.E.encoder_q.E_pre.shortcut.1.bias', 'E.E.encoder_q.E_pre.shortcut.1.running_mean', 'E.E.encoder_q.E_pre.shortcut.1.running_var', 'E.E.encoder_q.E_pre.shortcut.1.num_batches_tracked', 'E.E.encoder_q.E.0.backbone.0.weight', 'E.E.encoder_q.E.0.backbone.1.weight', 'E.E.encoder_q.E.0.backbone.1.bias', 'E.E.encoder_q.E.0.backbone.1.running_mean', 'E.E.encoder_q.E.0.backbone.1.running_var', 'E.E.encoder_q.E.0.backbone.1.num_batches_tracked', 'E.E.encoder_q.E.0.backbone.3.weight', 'E.E.encoder_q.E.0.backbone.4.weight', 'E.E.encoder_q.E.0.backbone.4.bias', 'E.E.encoder_q.E.0.backbone.4.running_mean', 'E.E.encoder_q.E.0.backbone.4.running_var', 'E.E.encoder_q.E.0.backbone.4.num_batches_tracked', 'E.E.encoder_q.E.0.shortcut.0.weight', 'E.E.encoder_q.E.0.shortcut.1.weight', 'E.E.encoder_q.E.0.shortcut.1.bias', 'E.E.encoder_q.E.0.shortcut.1.running_mean', 'E.E.encoder_q.E.0.shortcut.1.running_var', 'E.E.encoder_q.E.0.shortcut.1.num_batches_tracked', 'E.E.encoder_q.E.1.backbone.0.weight', 'E.E.encoder_q.E.1.backbone.1.weight', 'E.E.encoder_q.E.1.backbone.1.bias', 'E.E.encoder_q.E.1.backbone.1.running_mean', 'E.E.encoder_q.E.1.backbone.1.running_var', 'E.E.encoder_q.E.1.backbone.1.num_batches_tracked', 'E.E.encoder_q.E.1.backbone.3.weight', 'E.E.encoder_q.E.1.backbone.4.weight', 'E.E.encoder_q.E.1.backbone.4.bias', 'E.E.encoder_q.E.1.backbone.4.running_mean', 'E.E.encoder_q.E.1.backbone.4.running_var', 'E.E.encoder_q.E.1.backbone.4.num_batches_tracked', 'E.E.encoder_q.E.1.shortcut.0.weight', 'E.E.encoder_q.E.1.shortcut.1.weight', 'E.E.encoder_q.E.1.shortcut.1.bias', 'E.E.encoder_q.E.1.shortcut.1.running_mean', 'E.E.encoder_q.E.1.shortcut.1.running_var', 'E.E.encoder_q.E.1.shortcut.1.num_batches_tracked', 'E.E.encoder_q.mlp.0.weight', 'E.E.encoder_q.mlp.0.bias', 'E.E.encoder_q.mlp.2.weight', 'E.E.encoder_q.mlp.2.bias', 'E.E.encoder_k.E_pre.backbone.0.weight', 'E.E.encoder_k.E_pre.backbone.1.weight', 'E.E.encoder_k.E_pre.backbone.1.bias', 'E.E.encoder_k.E_pre.backbone.1.running_mean', 'E.E.encoder_k.E_pre.backbone.1.running_var', 'E.E.encoder_k.E_pre.backbone.1.num_batches_tracked', 'E.E.encoder_k.E_pre.backbone.3.weight', 'E.E.encoder_k.E_pre.backbone.4.weight', 'E.E.encoder_k.E_pre.backbone.4.bias', 'E.E.encoder_k.E_pre.backbone.4.running_mean', 'E.E.encoder_k.E_pre.backbone.4.running_var', 'E.E.encoder_k.E_pre.backbone.4.num_batches_tracked', 'E.E.encoder_k.E_pre.shortcut.0.weight', 'E.E.encoder_k.E_pre.shortcut.1.weight', 'E.E.encoder_k.E_pre.shortcut.1.bias', 'E.E.encoder_k.E_pre.shortcut.1.running_mean', 'E.E.encoder_k.E_pre.shortcut.1.running_var', 'E.E.encoder_k.E_pre.shortcut.1.num_batches_tracked', 'E.E.encoder_k.E.0.backbone.0.weight', 'E.E.encoder_k.E.0.backbone.1.weight', 'E.E.encoder_k.E.0.backbone.1.bias', 'E.E.encoder_k.E.0.backbone.1.running_mean', 'E.E.encoder_k.E.0.backbone.1.running_var', 'E.E.encoder_k.E.0.backbone.1.num_batches_tracked', 'E.E.encoder_k.E.0.backbone.3.weight', 'E.E.encoder_k.E.0.backbone.4.weight', 'E.E.encoder_k.E.0.backbone.4.bias', 'E.E.encoder_k.E.0.backbone.4.running_mean', 'E.E.encoder_k.E.0.backbone.4.running_var', 'E.E.encoder_k.E.0.backbone.4.num_batches_tracked', 'E.E.encoder_k.E.0.shortcut.0.weight', 'E.E.encoder_k.E.0.shortcut.1.weight', 'E.E.encoder_k.E.0.shortcut.1.bias', 'E.E.encoder_k.E.0.shortcut.1.running_mean', 'E.E.encoder_k.E.0.shortcut.1.running_var', 'E.E.encoder_k.E.0.shortcut.1.num_batches_tracked', 'E.E.encoder_k.E.1.backbone.0.weight', 'E.E.encoder_k.E.1.backbone.1.weight', 'E.E.encoder_k.E.1.backbone.1.bias', 'E.E.encoder_k.E.1.backbone.1.running_mean', 'E.E.encoder_k.E.1.backbone.1.running_var', 'E.E.encoder_k.E.1.backbone.1.num_batches_tracked', 'E.E.encoder_k.E.1.backbone.3.weight', 'E.E.encoder_k.E.1.backbone.4.weight', 'E.E.encoder_k.E.1.backbone.4.bias', 'E.E.encoder_k.E.1.backbone.4.running_mean', 'E.E.encoder_k.E.1.backbone.4.running_var', 'E.E.encoder_k.E.1.backbone.4.num_batches_tracked', 'E.E.encoder_k.E.1.shortcut.0.weight', 'E.E.encoder_k.E.1.shortcut.1.weight', 'E.E.encoder_k.E.1.shortcut.1.bias', 'E.E.encoder_k.E.1.shortcut.1.running_mean', 'E.E.encoder_k.E.1.shortcut.1.running_var', 'E.E.encoder_k.E.1.shortcut.1.num_batches_tracked', 'E.E.encoder_k.mlp.0.weight', 'E.E.encoder_k.mlp.0.bias', 'E.E.encoder_k.mlp.2.weight', 'E.E.encoder_k.mlp.2.bias'])\n",
            "/content/drive/MyDrive/Advanced-AI/AirNet/utils/ckpt_utils.py:61: FutureWarning: You are using `torch.load` with `weights_only=False` (the current default value), which uses the default pickle module implicitly. It is possible to construct malicious pickle data which will execute arbitrary code during unpickling (See https://github.com/pytorch/pytorch/blob/main/SECURITY.md#untrusted-models for more details). In a future release, the default value for `weights_only` will be flipped to `True`. This limits the functions that could be executed during unpickling. Arbitrary objects will no longer be allowed to be loaded via this mode unless they are explicitly allowlisted by the user via `torch.serialization.add_safe_globals`. We recommend you start setting `weights_only=True` for any use case where you don't have full control of the loaded file. Please open an issue on GitHub for any issues related to this experimental feature.\n",
            "  checkpoint = torch.load(os.path.join(ckpt_path, latest_checkpoint))\n",
            "Start at 100\n",
            "Start training...\n",
            "  0% 0/50 [00:44<?, ?it/s]\n",
            "Traceback (most recent call last):\n",
            "  File \"/content/drive/MyDrive/Advanced-AI/AirNet/train.py\", line 64, in <module>\n",
            "    restored, output, target = net(x_query=degrad_patch_1, x_key=degrad_patch_2, text_embedding=embedding_vector)\n",
            "  File \"/usr/local/lib/python3.10/dist-packages/torch/nn/modules/module.py\", line 1553, in _wrapped_call_impl\n",
            "    return self._call_impl(*args, **kwargs)\n",
            "  File \"/usr/local/lib/python3.10/dist-packages/torch/nn/modules/module.py\", line 1562, in _call_impl\n",
            "    return forward_call(*args, **kwargs)\n",
            "  File \"/content/drive/MyDrive/Advanced-AI/AirNet/net/model.py\", line 22, in forward\n",
            "    restored = self.R(x_query, inter)\n",
            "  File \"/usr/local/lib/python3.10/dist-packages/torch/nn/modules/module.py\", line 1553, in _wrapped_call_impl\n",
            "    return self._call_impl(*args, **kwargs)\n",
            "  File \"/usr/local/lib/python3.10/dist-packages/torch/nn/modules/module.py\", line 1562, in _call_impl\n",
            "    return forward_call(*args, **kwargs)\n",
            "  File \"/content/drive/MyDrive/Advanced-AI/AirNet/net/DGRN.py\", line 145, in forward\n",
            "    res = self.body[i](res, inter)\n",
            "  File \"/usr/local/lib/python3.10/dist-packages/torch/nn/modules/module.py\", line 1553, in _wrapped_call_impl\n",
            "    return self._call_impl(*args, **kwargs)\n",
            "  File \"/usr/local/lib/python3.10/dist-packages/torch/nn/modules/module.py\", line 1562, in _call_impl\n",
            "    return forward_call(*args, **kwargs)\n",
            "  File \"/content/drive/MyDrive/Advanced-AI/AirNet/net/DGRN.py\", line 106, in forward\n",
            "    res = self.body[i](res, inter)\n",
            "  File \"/usr/local/lib/python3.10/dist-packages/torch/nn/modules/module.py\", line 1553, in _wrapped_call_impl\n",
            "    return self._call_impl(*args, **kwargs)\n",
            "  File \"/usr/local/lib/python3.10/dist-packages/torch/nn/modules/module.py\", line 1562, in _call_impl\n",
            "    return forward_call(*args, **kwargs)\n",
            "  File \"/content/drive/MyDrive/Advanced-AI/AirNet/net/DGRN.py\", line 79, in forward\n",
            "    out = self.relu(self.dgm1(x, inter))\n",
            "  File \"/usr/local/lib/python3.10/dist-packages/torch/nn/modules/module.py\", line 1553, in _wrapped_call_impl\n",
            "    return self._call_impl(*args, **kwargs)\n",
            "  File \"/usr/local/lib/python3.10/dist-packages/torch/nn/modules/module.py\", line 1562, in _call_impl\n",
            "    return forward_call(*args, **kwargs)\n",
            "  File \"/content/drive/MyDrive/Advanced-AI/AirNet/net/DGRN.py\", line 27, in forward\n",
            "    dcn_out = self.dcn(x, inter)\n",
            "  File \"/usr/local/lib/python3.10/dist-packages/torch/nn/modules/module.py\", line 1553, in _wrapped_call_impl\n",
            "    return self._call_impl(*args, **kwargs)\n",
            "  File \"/usr/local/lib/python3.10/dist-packages/torch/nn/modules/module.py\", line 1562, in _call_impl\n",
            "    return forward_call(*args, **kwargs)\n",
            "  File \"/content/drive/MyDrive/Advanced-AI/AirNet/net/deform_conv.py\", line 65, in forward\n",
            "    return deform_conv2d(input_feat.contiguous(), offset, self.weight, self.bias, self.stride, self.padding, self.dilation, mask)\n",
            "  File \"/usr/local/lib/python3.10/dist-packages/torchvision/ops/deform_conv.py\", line 92, in deform_conv2d\n",
            "    return torch.ops.torchvision.deform_conv2d(\n",
            "  File \"/usr/local/lib/python3.10/dist-packages/torch/_ops.py\", line 1061, in __call__\n",
            "    return self_._op(*args, **(kwargs or {}))\n",
            "torch.OutOfMemoryError: CUDA out of memory. Tried to allocate 1008.00 MiB. GPU 0 has a total capacity of 39.56 GiB of which 72.81 MiB is free. Process 79541 has 39.48 GiB memory in use. Of the allocated memory 36.37 GiB is allocated by PyTorch, and 2.62 GiB is reserved by PyTorch but unallocated. If reserved but unallocated memory is large try setting PYTORCH_CUDA_ALLOC_CONF=expandable_segments:True to avoid fragmentation.  See documentation for Memory Management  (https://pytorch.org/docs/stable/notes/cuda.html#environment-variables)\n"
          ]
        }
      ]
    },
    {
      "cell_type": "code",
      "source": [
        "!pip install scikit-video"
      ],
      "metadata": {
        "id": "Vc99FXd0Lzdr",
        "outputId": "69612ef9-d3a8-4b95-e313-cbd673749564",
        "colab": {
          "base_uri": "https://localhost:8080/"
        }
      },
      "execution_count": null,
      "outputs": [
        {
          "output_type": "stream",
          "name": "stdout",
          "text": [
            "Collecting scikit-video\n",
            "  Downloading scikit_video-1.1.11-py2.py3-none-any.whl.metadata (1.1 kB)\n",
            "Requirement already satisfied: numpy in /usr/local/lib/python3.10/dist-packages (from scikit-video) (1.26.4)\n",
            "Requirement already satisfied: pillow in /usr/local/lib/python3.10/dist-packages (from scikit-video) (10.4.0)\n",
            "Requirement already satisfied: scipy in /usr/local/lib/python3.10/dist-packages (from scikit-video) (1.13.1)\n",
            "Downloading scikit_video-1.1.11-py2.py3-none-any.whl (2.3 MB)\n",
            "\u001b[?25l   \u001b[90m━━━━━━━━━━━━━━━━━━━━━━━━━━━━━━━━━━━━━━━━\u001b[0m \u001b[32m0.0/2.3 MB\u001b[0m \u001b[31m?\u001b[0m eta \u001b[36m-:--:--\u001b[0m\r\u001b[2K   \u001b[90m━━━━━━━━━━━━━━━━━━━━━━━━━━━━━━━━━━━━━━━━\u001b[0m \u001b[32m2.3/2.3 MB\u001b[0m \u001b[31m80.1 MB/s\u001b[0m eta \u001b[36m0:00:00\u001b[0m\n",
            "\u001b[?25hInstalling collected packages: scikit-video\n",
            "Successfully installed scikit-video-1.1.11\n"
          ]
        }
      ]
    },
    {
      "cell_type": "code",
      "source": [
        "!python test.py --mode=1 --output_path=\"$output_path\" --ckpt_path=\"$ckpt_path\" --derain_path=\"$derain_path\""
      ],
      "metadata": {
        "id": "AKx7d2rGHzXW",
        "outputId": "5f9c6520-7d88-4577-a2a0-f346137abe67",
        "colab": {
          "base_uri": "https://localhost:8080/"
        }
      },
      "execution_count": null,
      "outputs": [
        {
          "output_type": "stream",
          "name": "stdout",
          "text": [
            "/content/drive/MyDrive/Advanced-AI/AirNet/test.py:101: FutureWarning: You are using `torch.load` with `weights_only=False` (the current default value), which uses the default pickle module implicitly. It is possible to construct malicious pickle data which will execute arbitrary code during unpickling (See https://github.com/pytorch/pytorch/blob/main/SECURITY.md#untrusted-models for more details). In a future release, the default value for `weights_only` will be flipped to `True`. This limits the functions that could be executed during unpickling. Arbitrary objects will no longer be allowed to be loaded via this mode unless they are explicitly allowlisted by the user via `torch.serialization.add_safe_globals`. We recommend you start setting `weights_only=True` for any use case where you don't have full control of the loaded file. Please open an issue on GitHub for any issues related to this experimental feature.\n",
            "  net.load_state_dict(torch.load(ckpt_path, map_location=torch.device(opt.cuda)))\n",
            "Traceback (most recent call last):\n",
            "  File \"/content/drive/MyDrive/Advanced-AI/AirNet/test.py\", line 101, in <module>\n",
            "    net.load_state_dict(torch.load(ckpt_path, map_location=torch.device(opt.cuda)))\n",
            "  File \"/usr/local/lib/python3.10/dist-packages/torch/nn/modules/module.py\", line 2215, in load_state_dict\n",
            "    raise RuntimeError('Error(s) in loading state_dict for {}:\\n\\t{}'.format(\n",
            "RuntimeError: Error(s) in loading state_dict for AirNet:\n",
            "\tsize mismatch for E.E.queue: copying a param with shape torch.Size([256, 2048]) from checkpoint, the shape in current model is torch.Size([256, 256]).\n"
          ]
        }
      ]
    }
  ],
  "metadata": {
    "kernelspec": {
      "display_name": "Python 3",
      "name": "python3"
    },
    "language_info": {
      "codemirror_mode": {
        "name": "ipython",
        "version": 3
      },
      "file_extension": ".py",
      "mimetype": "text/x-python",
      "name": "python",
      "nbconvert_exporter": "python",
      "pygments_lexer": "ipython3",
      "version": "3.9.12"
    },
    "colab": {
      "provenance": [],
      "machine_shape": "hm",
      "gpuType": "A100",
      "include_colab_link": true
    },
    "accelerator": "GPU"
  },
  "nbformat": 4,
  "nbformat_minor": 0
}