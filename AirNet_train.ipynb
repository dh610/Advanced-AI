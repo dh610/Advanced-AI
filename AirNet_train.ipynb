{
  "cells": [
    {
      "cell_type": "markdown",
      "metadata": {
        "id": "view-in-github",
        "colab_type": "text"
      },
      "source": [
        "<a href=\"https://colab.research.google.com/github/dh610/Advanced-AI/blob/main/AirNet_train.ipynb\" target=\"_parent\"><img src=\"https://colab.research.google.com/assets/colab-badge.svg\" alt=\"Open In Colab\"/></a>"
      ]
    },
    {
      "cell_type": "code",
      "source": [
        "from google.colab import drive\n",
        "drive.mount('/content/drive')"
      ],
      "metadata": {
        "colab": {
          "base_uri": "https://localhost:8080/"
        },
        "id": "3LeERkBIL1j8",
        "outputId": "a534636a-2320-4bb7-dc45-7474d590a7af"
      },
      "execution_count": 2,
      "outputs": [
        {
          "output_type": "stream",
          "name": "stdout",
          "text": [
            "Mounted at /content/drive\n"
          ]
        }
      ]
    },
    {
      "cell_type": "code",
      "source": [
        "!pip install fasttext"
      ],
      "metadata": {
        "id": "E4YhQj18HHv5",
        "outputId": "9c957956-23f0-4bc4-aba5-380d39376dec",
        "colab": {
          "base_uri": "https://localhost:8080/"
        }
      },
      "execution_count": 3,
      "outputs": [
        {
          "output_type": "stream",
          "name": "stdout",
          "text": [
            "Collecting fasttext\n",
            "  Downloading fasttext-0.9.3.tar.gz (73 kB)\n",
            "\u001b[?25l     \u001b[90m━━━━━━━━━━━━━━━━━━━━━━━━━━━━━━━━━━━━━━━━\u001b[0m \u001b[32m0.0/73.4 kB\u001b[0m \u001b[31m?\u001b[0m eta \u001b[36m-:--:--\u001b[0m\r\u001b[2K     \u001b[90m━━━━━━━━━━━━━━━━━━━━━━━━━━━━━━━━━━━━━━━━\u001b[0m \u001b[32m73.4/73.4 kB\u001b[0m \u001b[31m6.8 MB/s\u001b[0m eta \u001b[36m0:00:00\u001b[0m\n",
            "\u001b[?25h  Installing build dependencies ... \u001b[?25l\u001b[?25hdone\n",
            "  Getting requirements to build wheel ... \u001b[?25l\u001b[?25hdone\n",
            "  Preparing metadata (pyproject.toml) ... \u001b[?25l\u001b[?25hdone\n",
            "Collecting pybind11>=2.2 (from fasttext)\n",
            "  Using cached pybind11-2.13.6-py3-none-any.whl.metadata (9.5 kB)\n",
            "Requirement already satisfied: setuptools>=0.7.0 in /usr/local/lib/python3.10/dist-packages (from fasttext) (71.0.4)\n",
            "Requirement already satisfied: numpy in /usr/local/lib/python3.10/dist-packages (from fasttext) (1.26.4)\n",
            "Using cached pybind11-2.13.6-py3-none-any.whl (243 kB)\n",
            "Building wheels for collected packages: fasttext\n",
            "  Building wheel for fasttext (pyproject.toml) ... \u001b[?25l\u001b[?25hdone\n",
            "  Created wheel for fasttext: filename=fasttext-0.9.3-cp310-cp310-linux_x86_64.whl size=4296189 sha256=881ace6dbde7dc5380674c48b4ffa7ac4adceb9e2ae260035c2d2f49e4ab70ff\n",
            "  Stored in directory: /root/.cache/pip/wheels/0d/a2/00/81db54d3e6a8199b829d58e02cec2ddb20ce3e59fad8d3c92a\n",
            "Successfully built fasttext\n",
            "Installing collected packages: pybind11, fasttext\n",
            "Successfully installed fasttext-0.9.3 pybind11-2.13.6\n"
          ]
        }
      ]
    },
    {
      "cell_type": "code",
      "source": [
        "import sys\n",
        "import os\n",
        "\n",
        "os.chdir(\"/content/drive/MyDrive/Advanced-AI/\")\n",
        "!git pull\n",
        "os.chdir(\"/content/drive/MyDrive/Advanced-AI/AirNet\")"
      ],
      "metadata": {
        "id": "kr8sQ0b2QVsK",
        "outputId": "8dffacc1-355d-46ae-f480-61f9387ab177",
        "colab": {
          "base_uri": "https://localhost:8080/"
        }
      },
      "execution_count": 20,
      "outputs": [
        {
          "output_type": "stream",
          "name": "stdout",
          "text": [
            "remote: Enumerating objects: 9, done.\u001b[K\n",
            "remote: Counting objects:  11% (1/9)\u001b[K\rremote: Counting objects:  22% (2/9)\u001b[K\rremote: Counting objects:  33% (3/9)\u001b[K\rremote: Counting objects:  44% (4/9)\u001b[K\rremote: Counting objects:  55% (5/9)\u001b[K\rremote: Counting objects:  66% (6/9)\u001b[K\rremote: Counting objects:  77% (7/9)\u001b[K\rremote: Counting objects:  88% (8/9)\u001b[K\rremote: Counting objects: 100% (9/9)\u001b[K\rremote: Counting objects: 100% (9/9), done.\u001b[K\n",
            "remote: Compressing objects: 100% (1/1)\u001b[K\rremote: Compressing objects: 100% (1/1), done.\u001b[K\n",
            "remote: Total 5 (delta 4), reused 5 (delta 4), pack-reused 0 (from 0)\u001b[K\n",
            "Unpacking objects: 100% (5/5), 395 bytes | 0 bytes/s, done.\n",
            "From https://github.com/dh610/Advanced-AI\n",
            "   f7cf5b0..80441fc  main       -> origin/main\n",
            "Updating f7cf5b0..80441fc\n",
            "Fast-forward\n",
            " AirNet/utils/dataset_utils_CDD.py | 2 \u001b[32m+\u001b[m\u001b[31m-\u001b[m\n",
            " 1 file changed, 1 insertion(+), 1 deletion(-)\n"
          ]
        }
      ]
    },
    {
      "cell_type": "code",
      "source": [
        "!python3 train.py"
      ],
      "metadata": {
        "id": "v-epJXo4Bb7h",
        "outputId": "e851cb74-0a2e-4723-f0f5-2d65d9ad0d6e",
        "colab": {
          "base_uri": "https://localhost:8080/"
        }
      },
      "execution_count": 22,
      "outputs": [
        {
          "output_type": "stream",
          "name": "stdout",
          "text": [
            "/content/drive/MyDrive/Advanced-AI/AirNet/utils/ckpt_utils.py:20: FutureWarning: You are using `torch.load` with `weights_only=False` (the current default value), which uses the default pickle module implicitly. It is possible to construct malicious pickle data which will execute arbitrary code during unpickling (See https://github.com/pytorch/pytorch/blob/main/SECURITY.md#untrusted-models for more details). In a future release, the default value for `weights_only` will be flipped to `True`. This limits the functions that could be executed during unpickling. Arbitrary objects will no longer be allowed to be loaded via this mode unless they are explicitly allowlisted by the user via `torch.serialization.add_safe_globals`. We recommend you start setting `weights_only=True` for any use case where you don't have full control of the loaded file. Please open an issue on GitHub for any issues related to this experimental feature.\n",
            "  model_info = torch.load(ckpt_name)\n",
            "==> loading existing Embedder model: ../OneRestore/ckpts/embedder_model.tar\n",
            "Loaded embeddings from file ../OneRestore/utils/glove.6B.300d.txt torch.Size([12, 300])\n",
            "Start at 0\n",
            "Start training...\n",
            "100% 50/50 [00:05<00:00,  9.52it/s]\n",
            "Epoch (0)  Loss: contrast_loss:4.0271\n",
            "100% 50/50 [00:04<00:00, 10.93it/s]\n",
            "Epoch (1)  Loss: contrast_loss:5.2962\n",
            "100% 50/50 [00:04<00:00, 11.74it/s]\n",
            "Epoch (2)  Loss: contrast_loss:5.0236\n",
            "100% 50/50 [00:04<00:00, 11.64it/s]\n",
            "Epoch (3)  Loss: contrast_loss:4.8181\n",
            "100% 50/50 [00:04<00:00, 11.19it/s]\n",
            "Epoch (4)  Loss: contrast_loss:4.3637\n",
            "100% 50/50 [00:04<00:00, 11.69it/s]\n",
            "Epoch (5)  Loss: contrast_loss:4.9363\n",
            "100% 50/50 [00:04<00:00, 11.67it/s]\n",
            "Epoch (6)  Loss: contrast_loss:4.6102\n",
            "100% 50/50 [00:04<00:00, 11.35it/s]\n",
            "Epoch (7)  Loss: contrast_loss:5.2026\n",
            "100% 50/50 [00:04<00:00, 11.54it/s]\n",
            "Epoch (8)  Loss: contrast_loss:5.0040\n",
            "100% 50/50 [00:04<00:00, 11.66it/s]\n",
            "Epoch (9)  Loss: contrast_loss:4.4152\n",
            "100% 50/50 [00:04<00:00, 11.38it/s]\n",
            "Epoch (10)  Loss: contrast_loss:5.6207\n",
            "100% 50/50 [00:04<00:00, 11.67it/s]\n",
            "Epoch (11)  Loss: contrast_loss:5.0606\n",
            "100% 50/50 [00:04<00:00, 11.72it/s]\n",
            "Epoch (12)  Loss: contrast_loss:5.1030\n",
            "100% 50/50 [00:04<00:00, 11.39it/s]\n",
            "Epoch (13)  Loss: contrast_loss:5.1452\n",
            "100% 50/50 [00:04<00:00, 11.63it/s]\n",
            "Epoch (14)  Loss: contrast_loss:5.3540\n",
            "100% 50/50 [00:04<00:00, 11.55it/s]\n",
            "Epoch (15)  Loss: contrast_loss:4.4771\n",
            "100% 50/50 [00:04<00:00, 11.40it/s]\n",
            "Epoch (16)  Loss: contrast_loss:4.5344\n",
            "100% 50/50 [00:04<00:00, 11.70it/s]\n",
            "Epoch (17)  Loss: contrast_loss:5.6570\n",
            "100% 50/50 [00:04<00:00, 11.76it/s]\n",
            "Epoch (18)  Loss: contrast_loss:5.0093\n",
            "100% 50/50 [00:04<00:00, 11.42it/s]\n",
            "Epoch (19)  Loss: contrast_loss:4.7265\n",
            "100% 50/50 [00:04<00:00, 11.63it/s]\n",
            "Epoch (20)  Loss: contrast_loss:5.0812\n",
            "100% 50/50 [00:04<00:00, 11.75it/s]\n",
            "Epoch (21)  Loss: contrast_loss:4.7545\n",
            "100% 50/50 [00:04<00:00, 11.55it/s]\n",
            "Epoch (22)  Loss: contrast_loss:5.7090\n",
            "100% 50/50 [00:04<00:00, 11.62it/s]\n",
            "Epoch (23)  Loss: contrast_loss:5.8004\n",
            "100% 50/50 [00:04<00:00, 11.68it/s]\n",
            "Epoch (24)  Loss: contrast_loss:4.3171\n",
            "100% 50/50 [00:04<00:00, 11.36it/s]\n",
            "Epoch (25)  Loss: contrast_loss:4.7857\n",
            "100% 50/50 [00:04<00:00, 11.64it/s]\n",
            "Epoch (26)  Loss: contrast_loss:5.3852\n",
            "100% 50/50 [00:04<00:00, 11.72it/s]\n",
            "Epoch (27)  Loss: contrast_loss:4.9204\n",
            "100% 50/50 [00:04<00:00, 11.40it/s]\n",
            "Epoch (28)  Loss: contrast_loss:4.8892\n",
            "100% 50/50 [00:04<00:00, 11.41it/s]\n",
            "Epoch (29)  Loss: contrast_loss:4.8727\n",
            "100% 50/50 [00:04<00:00, 11.64it/s]\n",
            "Epoch (30)  Loss: contrast_loss:5.0988\n",
            "100% 50/50 [00:04<00:00, 11.60it/s]\n",
            "Epoch (31)  Loss: contrast_loss:5.3179\n",
            "100% 50/50 [00:04<00:00, 11.32it/s]\n",
            "Epoch (32)  Loss: contrast_loss:5.0057\n",
            "100% 50/50 [00:04<00:00, 11.69it/s]\n",
            "Epoch (33)  Loss: contrast_loss:5.0168\n",
            "100% 50/50 [00:04<00:00, 11.71it/s]\n",
            "Epoch (34)  Loss: contrast_loss:4.5280\n",
            "100% 50/50 [00:04<00:00, 11.20it/s]\n",
            "Epoch (35)  Loss: contrast_loss:5.7160\n",
            "100% 50/50 [00:04<00:00, 11.73it/s]\n",
            "Epoch (36)  Loss: contrast_loss:4.3458\n",
            "100% 50/50 [00:04<00:00, 11.71it/s]\n",
            "Epoch (37)  Loss: contrast_loss:4.3247\n",
            "100% 50/50 [00:04<00:00, 11.31it/s]\n",
            "Epoch (38)  Loss: contrast_loss:4.6988\n",
            "100% 50/50 [00:04<00:00, 11.70it/s]\n",
            "Epoch (39)  Loss: contrast_loss:4.4777\n",
            "100% 50/50 [00:04<00:00, 11.78it/s]\n",
            "Epoch (40)  Loss: contrast_loss:4.5355\n",
            "100% 50/50 [00:04<00:00, 11.34it/s]\n",
            "Epoch (41)  Loss: contrast_loss:5.3976\n",
            "100% 50/50 [00:04<00:00, 11.65it/s]\n",
            "Epoch (42)  Loss: contrast_loss:4.6335\n",
            "100% 50/50 [00:04<00:00, 11.81it/s]\n",
            "Epoch (43)  Loss: contrast_loss:5.8267\n",
            "100% 50/50 [00:04<00:00, 11.27it/s]\n",
            "Epoch (44)  Loss: contrast_loss:4.8707\n",
            "100% 50/50 [00:04<00:00, 11.78it/s]\n",
            "Epoch (45)  Loss: contrast_loss:4.8288\n",
            "100% 50/50 [00:04<00:00, 12.21it/s]\n",
            "Epoch (46)  Loss: contrast_loss:5.1300\n",
            "100% 50/50 [00:04<00:00, 11.55it/s]\n",
            "Epoch (47)  Loss: contrast_loss:4.8847\n",
            "100% 50/50 [00:04<00:00, 11.36it/s]\n",
            "Epoch (48)  Loss: contrast_loss:4.4335\n",
            "100% 50/50 [00:04<00:00, 11.70it/s]\n",
            "Epoch (49)  Loss: contrast_loss:5.9041\n",
            "100% 50/50 [00:04<00:00, 11.74it/s]\n",
            "Epoch (50)  Loss: contrast_loss:4.7580\n",
            "100% 50/50 [00:04<00:00, 11.46it/s]\n",
            "Epoch (51)  Loss: contrast_loss:5.3253\n",
            "100% 50/50 [00:04<00:00, 10.57it/s]\n",
            "Epoch (52)  Loss: contrast_loss:5.0174\n",
            "100% 50/50 [00:04<00:00, 11.61it/s]\n",
            "Epoch (53)  Loss: contrast_loss:6.2309\n",
            "100% 50/50 [00:04<00:00, 11.71it/s]\n",
            "Epoch (54)  Loss: contrast_loss:5.0598\n",
            "100% 50/50 [00:04<00:00, 11.12it/s]\n",
            "Epoch (55)  Loss: contrast_loss:4.6530\n",
            "100% 50/50 [00:04<00:00, 11.50it/s]\n",
            "Epoch (56)  Loss: contrast_loss:4.5061\n",
            "100% 50/50 [00:04<00:00, 11.78it/s]\n",
            "Epoch (57)  Loss: contrast_loss:4.4456\n",
            "100% 50/50 [00:04<00:00, 11.47it/s]\n",
            "Epoch (58)  Loss: contrast_loss:5.0184\n",
            "100% 50/50 [00:04<00:00, 11.48it/s]\n",
            "Epoch (59)  Loss: contrast_loss:5.4281\n",
            "100% 50/50 [00:04<00:00, 11.67it/s]\n",
            "Epoch (60)  Loss: contrast_loss:5.5331\n",
            "100% 50/50 [00:04<00:00, 11.30it/s]\n",
            "Epoch (61)  Loss: contrast_loss:5.1498\n",
            "100% 50/50 [00:04<00:00, 11.79it/s]\n",
            "Epoch (62)  Loss: contrast_loss:4.7644\n",
            "100% 50/50 [00:04<00:00, 11.79it/s]\n",
            "Epoch (63)  Loss: contrast_loss:4.9411\n",
            "100% 50/50 [00:04<00:00, 11.41it/s]\n",
            "Epoch (64)  Loss: contrast_loss:5.4351\n",
            "100% 50/50 [00:04<00:00, 11.71it/s]\n",
            "Epoch (65)  Loss: contrast_loss:4.7813\n",
            "100% 50/50 [00:04<00:00, 11.66it/s]\n",
            "Epoch (66)  Loss: contrast_loss:4.5241\n",
            "100% 50/50 [00:04<00:00, 11.28it/s]\n",
            "Epoch (67)  Loss: contrast_loss:4.5594\n",
            "100% 50/50 [00:04<00:00, 11.69it/s]\n",
            "Epoch (68)  Loss: contrast_loss:4.4117\n",
            "100% 50/50 [00:04<00:00, 11.72it/s]\n",
            "Epoch (69)  Loss: contrast_loss:4.3837\n",
            "100% 50/50 [00:04<00:00, 11.25it/s]\n",
            "Epoch (70)  Loss: contrast_loss:5.2856\n",
            "100% 50/50 [00:04<00:00, 11.77it/s]\n",
            "Epoch (71)  Loss: contrast_loss:4.9266\n",
            "100% 50/50 [00:04<00:00, 11.73it/s]\n",
            "Epoch (72)  Loss: contrast_loss:5.2706\n",
            "100% 50/50 [00:04<00:00, 11.40it/s]\n",
            "Epoch (73)  Loss: contrast_loss:5.7744\n",
            "100% 50/50 [00:04<00:00, 11.65it/s]\n",
            "Epoch (74)  Loss: contrast_loss:5.3156\n",
            "100% 50/50 [00:04<00:00, 11.80it/s]\n",
            "Epoch (75)  Loss: contrast_loss:5.4081\n",
            "100% 50/50 [00:04<00:00, 11.50it/s]\n",
            "Epoch (76)  Loss: contrast_loss:4.9811\n",
            "100% 50/50 [00:04<00:00, 11.63it/s]\n",
            "Epoch (77)  Loss: contrast_loss:4.9263\n",
            "100% 50/50 [00:04<00:00, 11.73it/s]\n",
            "Epoch (78)  Loss: contrast_loss:5.5175\n",
            "100% 50/50 [00:04<00:00, 11.50it/s]\n",
            "Epoch (79)  Loss: contrast_loss:5.4961\n",
            "100% 50/50 [00:04<00:00, 11.47it/s]\n",
            "Epoch (80)  Loss: contrast_loss:4.7717\n",
            "100% 50/50 [00:04<00:00, 11.65it/s]\n",
            "Epoch (81)  Loss: contrast_loss:5.0877\n",
            "100% 50/50 [00:04<00:00, 11.73it/s]\n",
            "Epoch (82)  Loss: contrast_loss:6.3343\n",
            "100% 50/50 [00:04<00:00, 11.24it/s]\n",
            "Epoch (83)  Loss: contrast_loss:4.8651\n",
            "100% 50/50 [00:04<00:00, 11.70it/s]\n",
            "Epoch (84)  Loss: contrast_loss:4.9140\n",
            "100% 50/50 [00:04<00:00, 11.58it/s]\n",
            "Epoch (85)  Loss: contrast_loss:4.7951\n",
            "100% 50/50 [00:04<00:00, 11.33it/s]\n",
            "Epoch (86)  Loss: contrast_loss:5.1637\n",
            "100% 50/50 [00:04<00:00, 11.66it/s]\n",
            "Epoch (87)  Loss: contrast_loss:4.5524\n",
            "100% 50/50 [00:04<00:00, 11.75it/s]\n",
            "Epoch (88)  Loss: contrast_loss:6.3994\n",
            "100% 50/50 [00:04<00:00, 11.36it/s]\n",
            "Epoch (89)  Loss: contrast_loss:5.5685\n",
            "100% 50/50 [00:04<00:00, 11.70it/s]\n",
            "Epoch (90)  Loss: contrast_loss:5.3095\n",
            "100% 50/50 [00:04<00:00, 11.69it/s]\n",
            "Epoch (91)  Loss: contrast_loss:5.1839\n",
            "100% 50/50 [00:04<00:00, 11.41it/s]\n",
            "Epoch (92)  Loss: contrast_loss:6.2247\n",
            "100% 50/50 [00:04<00:00, 11.66it/s]\n",
            "Epoch (93)  Loss: contrast_loss:4.9170\n",
            "100% 50/50 [00:04<00:00, 11.69it/s]\n",
            "Epoch (94)  Loss: contrast_loss:6.7686\n",
            "100% 50/50 [00:04<00:00, 11.24it/s]\n",
            "Epoch (95)  Loss: contrast_loss:5.5668\n",
            "100% 50/50 [00:04<00:00, 11.58it/s]\n",
            "Epoch (96)  Loss: contrast_loss:5.5139\n",
            "100% 50/50 [00:04<00:00, 11.61it/s]\n",
            "Epoch (97)  Loss: contrast_loss:4.6070\n",
            "100% 50/50 [00:04<00:00, 11.45it/s]\n",
            "Epoch (98)  Loss: contrast_loss:4.3162\n",
            "100% 50/50 [00:04<00:00, 11.44it/s]\n",
            "Epoch (99)  Loss: contrast_loss:4.8832\n",
            "100% 50/50 [01:49<00:00,  2.19s/it]\n",
            "Epoch (100)  Loss: l1_loss:0.1095 contrast_loss:4.1839\n",
            "100% 50/50 [01:49<00:00,  2.18s/it]\n",
            "Epoch (101)  Loss: l1_loss:0.1269 contrast_loss:5.2213\n",
            "100% 50/50 [01:48<00:00,  2.18s/it]\n",
            "Epoch (102)  Loss: l1_loss:0.1052 contrast_loss:4.7227\n",
            "100% 50/50 [01:49<00:00,  2.18s/it]\n",
            "Epoch (103)  Loss: l1_loss:0.1150 contrast_loss:4.5362\n",
            "100% 50/50 [01:48<00:00,  2.18s/it]\n",
            "Epoch (104)  Loss: l1_loss:0.1221 contrast_loss:5.1281\n",
            "100% 50/50 [01:48<00:00,  2.18s/it]\n",
            "Epoch (105)  Loss: l1_loss:0.0935 contrast_loss:5.2368\n",
            "100% 50/50 [01:48<00:00,  2.18s/it]\n",
            "Epoch (106)  Loss: l1_loss:0.0902 contrast_loss:4.5258\n",
            "100% 50/50 [01:48<00:00,  2.18s/it]\n",
            "Epoch (107)  Loss: l1_loss:0.1075 contrast_loss:5.1536\n",
            "100% 50/50 [01:48<00:00,  2.18s/it]\n",
            "Epoch (108)  Loss: l1_loss:0.0965 contrast_loss:4.3073\n",
            "100% 50/50 [01:48<00:00,  2.18s/it]\n",
            "Epoch (109)  Loss: l1_loss:0.1042 contrast_loss:4.4241\n",
            "100% 50/50 [01:49<00:00,  2.18s/it]\n",
            "Epoch (110)  Loss: l1_loss:0.0949 contrast_loss:5.4226\n",
            "100% 50/50 [01:48<00:00,  2.18s/it]\n",
            "Epoch (111)  Loss: l1_loss:0.0862 contrast_loss:5.0164\n",
            "100% 50/50 [01:48<00:00,  2.18s/it]\n",
            "Epoch (112)  Loss: l1_loss:0.0935 contrast_loss:4.5986\n",
            "100% 50/50 [01:48<00:00,  2.18s/it]\n",
            "Epoch (113)  Loss: l1_loss:0.0864 contrast_loss:4.4034\n",
            "100% 50/50 [01:48<00:00,  2.18s/it]\n",
            "Epoch (114)  Loss: l1_loss:0.1413 contrast_loss:4.3313\n",
            "100% 50/50 [01:48<00:00,  2.18s/it]\n",
            "Epoch (115)  Loss: l1_loss:0.0771 contrast_loss:4.8066\n",
            "100% 50/50 [01:48<00:00,  2.18s/it]\n",
            "Epoch (116)  Loss: l1_loss:0.0920 contrast_loss:5.0725\n",
            "100% 50/50 [01:48<00:00,  2.18s/it]\n",
            "Epoch (117)  Loss: l1_loss:0.0952 contrast_loss:4.6050\n",
            "100% 50/50 [01:48<00:00,  2.18s/it]\n",
            "Epoch (118)  Loss: l1_loss:0.0992 contrast_loss:4.3684\n",
            "100% 50/50 [01:48<00:00,  2.18s/it]\n",
            "Epoch (119)  Loss: l1_loss:0.0969 contrast_loss:4.9171\n",
            "100% 50/50 [01:48<00:00,  2.18s/it]\n",
            "Epoch (120)  Loss: l1_loss:0.1079 contrast_loss:4.7789\n",
            "100% 50/50 [01:48<00:00,  2.18s/it]\n",
            "Epoch (121)  Loss: l1_loss:0.0793 contrast_loss:5.3570\n",
            "100% 50/50 [01:49<00:00,  2.18s/it]\n",
            "Epoch (122)  Loss: l1_loss:0.0772 contrast_loss:4.7421\n",
            "100% 50/50 [01:49<00:00,  2.18s/it]\n",
            "Epoch (123)  Loss: l1_loss:0.0716 contrast_loss:4.6151\n",
            "100% 50/50 [01:48<00:00,  2.18s/it]\n",
            "Epoch (124)  Loss: l1_loss:0.1002 contrast_loss:5.2179\n",
            " 74% 37/50 [01:22<00:29,  2.24s/it]\n",
            "Traceback (most recent call last):\n",
            "  File \"/content/drive/MyDrive/Advanced-AI/AirNet/train.py\", line 66, in <module>\n",
            "    loss.backward()\n",
            "  File \"/usr/local/lib/python3.10/dist-packages/torch/_tensor.py\", line 521, in backward\n",
            "    torch.autograd.backward(\n",
            "  File \"/usr/local/lib/python3.10/dist-packages/torch/autograd/__init__.py\", line 289, in backward\n",
            "    _engine_run_backward(\n",
            "  File \"/usr/local/lib/python3.10/dist-packages/torch/autograd/graph.py\", line 769, in _engine_run_backward\n",
            "    return Variable._execution_engine.run_backward(  # Calls into the C++ engine to run the backward pass\n",
            "KeyboardInterrupt\n"
          ]
        }
      ]
    },
    {
      "cell_type": "code",
      "source": [
        "!pip install scikit-video"
      ],
      "metadata": {
        "id": "Vc99FXd0Lzdr",
        "outputId": "69612ef9-d3a8-4b95-e313-cbd673749564",
        "colab": {
          "base_uri": "https://localhost:8080/"
        }
      },
      "execution_count": null,
      "outputs": [
        {
          "output_type": "stream",
          "name": "stdout",
          "text": [
            "Collecting scikit-video\n",
            "  Downloading scikit_video-1.1.11-py2.py3-none-any.whl.metadata (1.1 kB)\n",
            "Requirement already satisfied: numpy in /usr/local/lib/python3.10/dist-packages (from scikit-video) (1.26.4)\n",
            "Requirement already satisfied: pillow in /usr/local/lib/python3.10/dist-packages (from scikit-video) (10.4.0)\n",
            "Requirement already satisfied: scipy in /usr/local/lib/python3.10/dist-packages (from scikit-video) (1.13.1)\n",
            "Downloading scikit_video-1.1.11-py2.py3-none-any.whl (2.3 MB)\n",
            "\u001b[?25l   \u001b[90m━━━━━━━━━━━━━━━━━━━━━━━━━━━━━━━━━━━━━━━━\u001b[0m \u001b[32m0.0/2.3 MB\u001b[0m \u001b[31m?\u001b[0m eta \u001b[36m-:--:--\u001b[0m\r\u001b[2K   \u001b[90m━━━━━━━━━━━━━━━━━━━━━━━━━━━━━━━━━━━━━━━━\u001b[0m \u001b[32m2.3/2.3 MB\u001b[0m \u001b[31m80.1 MB/s\u001b[0m eta \u001b[36m0:00:00\u001b[0m\n",
            "\u001b[?25hInstalling collected packages: scikit-video\n",
            "Successfully installed scikit-video-1.1.11\n"
          ]
        }
      ]
    },
    {
      "cell_type": "code",
      "source": [
        "!python test.py --mode=1 --output_path=\"$output_path\" --ckpt_path=\"$ckpt_path\" --derain_path=\"$derain_path\""
      ],
      "metadata": {
        "id": "AKx7d2rGHzXW",
        "outputId": "5f9c6520-7d88-4577-a2a0-f346137abe67",
        "colab": {
          "base_uri": "https://localhost:8080/"
        }
      },
      "execution_count": null,
      "outputs": [
        {
          "output_type": "stream",
          "name": "stdout",
          "text": [
            "/content/drive/MyDrive/Advanced-AI/AirNet/test.py:101: FutureWarning: You are using `torch.load` with `weights_only=False` (the current default value), which uses the default pickle module implicitly. It is possible to construct malicious pickle data which will execute arbitrary code during unpickling (See https://github.com/pytorch/pytorch/blob/main/SECURITY.md#untrusted-models for more details). In a future release, the default value for `weights_only` will be flipped to `True`. This limits the functions that could be executed during unpickling. Arbitrary objects will no longer be allowed to be loaded via this mode unless they are explicitly allowlisted by the user via `torch.serialization.add_safe_globals`. We recommend you start setting `weights_only=True` for any use case where you don't have full control of the loaded file. Please open an issue on GitHub for any issues related to this experimental feature.\n",
            "  net.load_state_dict(torch.load(ckpt_path, map_location=torch.device(opt.cuda)))\n",
            "Traceback (most recent call last):\n",
            "  File \"/content/drive/MyDrive/Advanced-AI/AirNet/test.py\", line 101, in <module>\n",
            "    net.load_state_dict(torch.load(ckpt_path, map_location=torch.device(opt.cuda)))\n",
            "  File \"/usr/local/lib/python3.10/dist-packages/torch/nn/modules/module.py\", line 2215, in load_state_dict\n",
            "    raise RuntimeError('Error(s) in loading state_dict for {}:\\n\\t{}'.format(\n",
            "RuntimeError: Error(s) in loading state_dict for AirNet:\n",
            "\tsize mismatch for E.E.queue: copying a param with shape torch.Size([256, 2048]) from checkpoint, the shape in current model is torch.Size([256, 256]).\n"
          ]
        }
      ]
    }
  ],
  "metadata": {
    "kernelspec": {
      "display_name": "Python 3",
      "name": "python3"
    },
    "language_info": {
      "codemirror_mode": {
        "name": "ipython",
        "version": 3
      },
      "file_extension": ".py",
      "mimetype": "text/x-python",
      "name": "python",
      "nbconvert_exporter": "python",
      "pygments_lexer": "ipython3",
      "version": "3.9.12"
    },
    "colab": {
      "provenance": [],
      "machine_shape": "hm",
      "gpuType": "A100",
      "include_colab_link": true
    },
    "accelerator": "GPU"
  },
  "nbformat": 4,
  "nbformat_minor": 0
}