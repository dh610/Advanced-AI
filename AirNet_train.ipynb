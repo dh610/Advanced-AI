{
  "cells": [
    {
      "cell_type": "markdown",
      "metadata": {
        "id": "view-in-github",
        "colab_type": "text"
      },
      "source": [
        "<a href=\"https://colab.research.google.com/github/dh610/Advanced-AI/blob/main/AirNet_train.ipynb\" target=\"_parent\"><img src=\"https://colab.research.google.com/assets/colab-badge.svg\" alt=\"Open In Colab\"/></a>"
      ]
    },
    {
      "cell_type": "code",
      "source": [
        "from google.colab import drive\n",
        "drive.mount('/content/drive')"
      ],
      "metadata": {
        "colab": {
          "base_uri": "https://localhost:8080/"
        },
        "id": "3LeERkBIL1j8",
        "outputId": "3f353c52-408b-4522-8fcd-4ab4aba76a5f"
      },
      "execution_count": 1,
      "outputs": [
        {
          "output_type": "stream",
          "name": "stdout",
          "text": [
            "Mounted at /content/drive\n"
          ]
        }
      ]
    },
    {
      "cell_type": "code",
      "source": [
        "import sys\n",
        "import os\n",
        "\n",
        "os.chdir(\"/content/drive/MyDrive/Advanced-AI/\")\n",
        "!git pull\n",
        "os.chdir(\"/content/drive/MyDrive/Advanced-AI/AirNet\")"
      ],
      "metadata": {
        "id": "kr8sQ0b2QVsK",
        "outputId": "808e7e4e-7a83-49c9-a13d-acdc8eeaf121",
        "colab": {
          "base_uri": "https://localhost:8080/"
        }
      },
      "execution_count": 2,
      "outputs": [
        {
          "output_type": "stream",
          "name": "stdout",
          "text": [
            "remote: Enumerating objects: 18, done.\u001b[K\n",
            "remote: Counting objects:   5% (1/18)\u001b[K\rremote: Counting objects:  11% (2/18)\u001b[K\rremote: Counting objects:  16% (3/18)\u001b[K\rremote: Counting objects:  22% (4/18)\u001b[K\rremote: Counting objects:  27% (5/18)\u001b[K\rremote: Counting objects:  33% (6/18)\u001b[K\rremote: Counting objects:  38% (7/18)\u001b[K\rremote: Counting objects:  44% (8/18)\u001b[K\rremote: Counting objects:  50% (9/18)\u001b[K\rremote: Counting objects:  55% (10/18)\u001b[K\rremote: Counting objects:  61% (11/18)\u001b[K\rremote: Counting objects:  66% (12/18)\u001b[K\rremote: Counting objects:  72% (13/18)\u001b[K\rremote: Counting objects:  77% (14/18)\u001b[K\rremote: Counting objects:  83% (15/18)\u001b[K\rremote: Counting objects:  88% (16/18)\u001b[K\rremote: Counting objects:  94% (17/18)\u001b[K\rremote: Counting objects: 100% (18/18)\u001b[K\rremote: Counting objects: 100% (18/18), done.\u001b[K\n",
            "remote: Compressing objects:  10% (1/10)\u001b[K\rremote: Compressing objects:  20% (2/10)\u001b[K\rremote: Compressing objects:  30% (3/10)\u001b[K\rremote: Compressing objects:  40% (4/10)\u001b[K\rremote: Compressing objects:  50% (5/10)\u001b[K\rremote: Compressing objects:  60% (6/10)\u001b[K\rremote: Compressing objects:  70% (7/10)\u001b[K\rremote: Compressing objects:  80% (8/10)\u001b[K\rremote: Compressing objects:  90% (9/10)\u001b[K\rremote: Compressing objects: 100% (10/10)\u001b[K\rremote: Compressing objects: 100% (10/10), done.\u001b[K\n",
            "remote: Total 14 (delta 6), reused 0 (delta 0), pack-reused 0 (from 0)\u001b[K\n",
            "Unpacking objects: 100% (14/14), 3.35 KiB | 0 bytes/s, done.\n",
            "From https://github.com/dh610/Advanced-AI\n",
            "   c19dac2..2990f33  main       -> origin/main\n",
            "Updating c19dac2..2990f33\n",
            "Fast-forward\n",
            " AirNet/ckpt/README.md                  |  1 \u001b[32m+\u001b[m\n",
            " AirNet/data/CDD-11_train_100/README.md |  1 \u001b[32m+\u001b[m\n",
            " AirNet_train.ipynb                     | 69 \u001b[32m+++++++++++++++++++++++++++\u001b[m\u001b[31m---------------------------\u001b[m\n",
            " 3 files changed, 36 insertions(+), 35 deletions(-)\n",
            " create mode 100644 AirNet/ckpt/README.md\n",
            " create mode 100644 AirNet/data/CDD-11_train_100/README.md\n"
          ]
        }
      ]
    },
    {
      "cell_type": "code",
      "source": [
        "!pip install fasttext"
      ],
      "metadata": {
        "id": "E4YhQj18HHv5",
        "outputId": "29c77375-88e3-4c59-d2a0-b37a175d4e19",
        "colab": {
          "base_uri": "https://localhost:8080/"
        }
      },
      "execution_count": null,
      "outputs": [
        {
          "output_type": "stream",
          "name": "stdout",
          "text": [
            "Collecting fasttext\n",
            "  Downloading fasttext-0.9.3.tar.gz (73 kB)\n",
            "\u001b[?25l     \u001b[90m━━━━━━━━━━━━━━━━━━━━━━━━━━━━━━━━━━━━━━━━\u001b[0m \u001b[32m0.0/73.4 kB\u001b[0m \u001b[31m?\u001b[0m eta \u001b[36m-:--:--\u001b[0m\r\u001b[2K     \u001b[90m━━━━━━━━━━━━━━━━━━━━━━━━━━━━━━━━━━━━━━━━\u001b[0m \u001b[32m73.4/73.4 kB\u001b[0m \u001b[31m2.5 MB/s\u001b[0m eta \u001b[36m0:00:00\u001b[0m\n",
            "\u001b[?25h  Installing build dependencies ... \u001b[?25l\u001b[?25hdone\n",
            "  Getting requirements to build wheel ... \u001b[?25l\u001b[?25hdone\n",
            "  Preparing metadata (pyproject.toml) ... \u001b[?25l\u001b[?25hdone\n",
            "Collecting pybind11>=2.2 (from fasttext)\n",
            "  Using cached pybind11-2.13.6-py3-none-any.whl.metadata (9.5 kB)\n",
            "Requirement already satisfied: setuptools>=0.7.0 in /usr/local/lib/python3.10/dist-packages (from fasttext) (71.0.4)\n",
            "Requirement already satisfied: numpy in /usr/local/lib/python3.10/dist-packages (from fasttext) (1.26.4)\n",
            "Using cached pybind11-2.13.6-py3-none-any.whl (243 kB)\n",
            "Building wheels for collected packages: fasttext\n",
            "  Building wheel for fasttext (pyproject.toml) ... \u001b[?25l\u001b[?25hdone\n",
            "  Created wheel for fasttext: filename=fasttext-0.9.3-cp310-cp310-linux_x86_64.whl size=4296182 sha256=294e001345ba3a00459d22d602f50996d3ac0c29d88637753ad0a2206c56fee3\n",
            "  Stored in directory: /root/.cache/pip/wheels/0d/a2/00/81db54d3e6a8199b829d58e02cec2ddb20ce3e59fad8d3c92a\n",
            "Successfully built fasttext\n",
            "Installing collected packages: pybind11, fasttext\n",
            "Successfully installed fasttext-0.9.3 pybind11-2.13.6\n"
          ]
        }
      ]
    },
    {
      "cell_type": "code",
      "source": [
        "!python3 Embedder_test.py low_haze"
      ],
      "metadata": {
        "id": "2rdzHuZkGKS1",
        "outputId": "0144dd35-598f-459c-8077-61755dd249cb",
        "colab": {
          "base_uri": "https://localhost:8080/"
        }
      },
      "execution_count": null,
      "outputs": [
        {
          "output_type": "stream",
          "name": "stdout",
          "text": [
            "/content/drive/MyDrive/Advanced-AI/AirNet/utils/Embedder_utils.py:19: FutureWarning: You are using `torch.load` with `weights_only=False` (the current default value), which uses the default pickle module implicitly. It is possible to construct malicious pickle data which will execute arbitrary code during unpickling (See https://github.com/pytorch/pytorch/blob/main/SECURITY.md#untrusted-models for more details). In a future release, the default value for `weights_only` will be flipped to `True`. This limits the functions that could be executed during unpickling. Arbitrary objects will no longer be allowed to be loaded via this mode unless they are explicitly allowlisted by the user via `torch.serialization.add_safe_globals`. We recommend you start setting `weights_only=True` for any use case where you don't have full control of the loaded file. Please open an issue on GitHub for any issues related to this experimental feature.\n",
            "  model_info = torch.load(ckpt_name)\n",
            "==> loading existing Embedder model: ../OneRestore/ckpts/embedder_model.tar\n",
            "Loaded embeddings from file ../OneRestore/utils/glove.6B.300d.txt torch.Size([12, 300])\n",
            "['low_haze']\n",
            "This is low_haze degradation generated by input text.\n"
          ]
        }
      ]
    },
    {
      "cell_type": "code",
      "source": [
        "sys.path.append(\"/content/drive/MyDrive/Advanced-AI/AirNet/\")\n",
        "os.chdir(\"/content/drive/MyDrive/Advanced-AI/AirNet\")\n",
        "\n",
        "derain_path = \"/content/drive/MyDrive/Advanced-AI/InstructIR/test-data/Rain100L/\"\n",
        "dehaze_path = \"/content/drive/MyDrive/Advanced-AI/InstructIR/test-data/SOTS/\"\n",
        "denoise_path = \"/content/drive/MyDrive/Advanced-AI/InstructIR/test-data/denoising_testsets/denoise/\"\n",
        "ckpt_path = \"/content/drive/MyDrive/Advanced-AI/AirNet/ckpt/\"\n",
        "output_path = \"/content/drive/MyDrive/Advanced-AI/AirNet/output/\""
      ],
      "metadata": {
        "id": "FzNgTnE5OZat"
      },
      "execution_count": null,
      "outputs": []
    },
    {
      "cell_type": "code",
      "source": [
        "!python train.py --derain_dir=\"$derain_path\" --epochs=100 --epochs_encoder=10 --ckpt_path=\"$ckpt_path\""
      ],
      "metadata": {
        "id": "v-epJXo4Bb7h",
        "outputId": "d35703ef-da88-408b-ae10-91a564f93b06",
        "colab": {
          "base_uri": "https://localhost:8080/"
        }
      },
      "execution_count": null,
      "outputs": [
        {
          "output_type": "stream",
          "name": "stdout",
          "text": [
            "Start training...\n",
            "100% 50/50 [02:31<00:00,  3.02s/it]\n",
            "Epoch (0)  Loss: contrast_loss:3.5934\n",
            "100% 50/50 [00:08<00:00,  6.07it/s]\n",
            "Epoch (1)  Loss: contrast_loss:4.4225\n",
            "100% 50/50 [00:08<00:00,  6.10it/s]\n",
            "Epoch (2)  Loss: contrast_loss:5.0409\n",
            "100% 50/50 [00:08<00:00,  6.04it/s]\n",
            "Epoch (3)  Loss: contrast_loss:4.6738\n",
            "100% 50/50 [00:08<00:00,  6.11it/s]\n",
            "Epoch (4)  Loss: contrast_loss:4.5887\n",
            "100% 50/50 [00:08<00:00,  6.06it/s]\n",
            "Epoch (5)  Loss: contrast_loss:5.4814\n",
            "100% 50/50 [00:08<00:00,  6.05it/s]\n",
            "Epoch (6)  Loss: contrast_loss:4.0177\n",
            "100% 50/50 [00:08<00:00,  6.04it/s]\n",
            "Epoch (7)  Loss: contrast_loss:4.9477\n",
            "100% 50/50 [00:08<00:00,  6.08it/s]\n",
            "Epoch (8)  Loss: contrast_loss:3.1518\n",
            "100% 50/50 [00:08<00:00,  6.06it/s]\n",
            "Epoch (9)  Loss: contrast_loss:4.1192\n",
            "100% 50/50 [00:46<00:00,  1.07it/s]\n",
            "Epoch (10)  Loss: l1_loss:0.0579 contrast_loss:4.1105\n",
            "100% 50/50 [00:46<00:00,  1.08it/s]\n",
            "Epoch (11)  Loss: l1_loss:0.0507 contrast_loss:4.2054\n",
            "100% 50/50 [00:46<00:00,  1.08it/s]\n",
            "Epoch (12)  Loss: l1_loss:0.0392 contrast_loss:4.8749\n",
            "100% 50/50 [00:46<00:00,  1.08it/s]\n",
            "Epoch (13)  Loss: l1_loss:0.0370 contrast_loss:4.2389\n",
            "100% 50/50 [00:46<00:00,  1.08it/s]\n",
            "Epoch (14)  Loss: l1_loss:0.0302 contrast_loss:3.7240\n",
            "100% 50/50 [00:46<00:00,  1.08it/s]\n",
            "Epoch (15)  Loss: l1_loss:0.0337 contrast_loss:3.8560\n",
            "100% 50/50 [00:46<00:00,  1.08it/s]\n",
            "Epoch (16)  Loss: l1_loss:0.0307 contrast_loss:3.9921\n",
            "100% 50/50 [00:46<00:00,  1.08it/s]\n",
            "Epoch (17)  Loss: l1_loss:0.0321 contrast_loss:4.2776\n",
            "100% 50/50 [00:46<00:00,  1.08it/s]\n",
            "Epoch (18)  Loss: l1_loss:0.0254 contrast_loss:4.5072\n",
            "100% 50/50 [00:46<00:00,  1.08it/s]\n",
            "Epoch (19)  Loss: l1_loss:0.0336 contrast_loss:5.2174\n",
            "100% 50/50 [00:46<00:00,  1.08it/s]\n",
            "Epoch (20)  Loss: l1_loss:0.0313 contrast_loss:4.8666\n",
            "100% 50/50 [00:46<00:00,  1.08it/s]\n",
            "Epoch (21)  Loss: l1_loss:0.0268 contrast_loss:5.4335\n",
            "100% 50/50 [00:46<00:00,  1.08it/s]\n",
            "Epoch (22)  Loss: l1_loss:0.0282 contrast_loss:4.9502\n",
            "100% 50/50 [00:46<00:00,  1.08it/s]\n",
            "Epoch (23)  Loss: l1_loss:0.0260 contrast_loss:5.0685\n",
            "100% 50/50 [00:46<00:00,  1.08it/s]\n",
            "Epoch (24)  Loss: l1_loss:0.0239 contrast_loss:4.3284\n",
            "100% 50/50 [00:46<00:00,  1.08it/s]\n",
            "Epoch (25)  Loss: l1_loss:0.0328 contrast_loss:5.2508\n",
            "100% 50/50 [00:46<00:00,  1.08it/s]\n",
            "Epoch (26)  Loss: l1_loss:0.0254 contrast_loss:5.0734\n",
            "100% 50/50 [00:46<00:00,  1.08it/s]\n",
            "Epoch (27)  Loss: l1_loss:0.0279 contrast_loss:4.5119\n",
            "100% 50/50 [00:46<00:00,  1.08it/s]\n",
            "Epoch (28)  Loss: l1_loss:0.0250 contrast_loss:5.5786\n",
            "100% 50/50 [00:46<00:00,  1.08it/s]\n",
            "Epoch (29)  Loss: l1_loss:0.0232 contrast_loss:4.7600\n",
            "100% 50/50 [00:46<00:00,  1.08it/s]\n",
            "Epoch (30)  Loss: l1_loss:0.0258 contrast_loss:5.7306\n",
            "100% 50/50 [00:46<00:00,  1.08it/s]\n",
            "Epoch (31)  Loss: l1_loss:0.0267 contrast_loss:5.1659\n",
            "100% 50/50 [00:46<00:00,  1.08it/s]\n",
            "Epoch (32)  Loss: l1_loss:0.0232 contrast_loss:6.1542\n",
            "100% 50/50 [00:46<00:00,  1.08it/s]\n",
            "Epoch (33)  Loss: l1_loss:0.0347 contrast_loss:5.8072\n",
            "100% 50/50 [00:46<00:00,  1.08it/s]\n",
            "Epoch (34)  Loss: l1_loss:0.0262 contrast_loss:5.1154\n",
            "100% 50/50 [00:46<00:00,  1.08it/s]\n",
            "Epoch (35)  Loss: l1_loss:0.0273 contrast_loss:4.9768\n",
            "100% 50/50 [00:46<00:00,  1.08it/s]\n",
            "Epoch (36)  Loss: l1_loss:0.0246 contrast_loss:5.7549\n",
            "100% 50/50 [00:46<00:00,  1.08it/s]\n",
            "Epoch (37)  Loss: l1_loss:0.0274 contrast_loss:6.0796\n",
            "100% 50/50 [00:46<00:00,  1.08it/s]\n",
            "Epoch (38)  Loss: l1_loss:0.0259 contrast_loss:5.0671\n",
            "100% 50/50 [00:46<00:00,  1.08it/s]\n",
            "Epoch (39)  Loss: l1_loss:0.0261 contrast_loss:6.3179\n",
            "100% 50/50 [00:46<00:00,  1.08it/s]\n",
            "Epoch (40)  Loss: l1_loss:0.0265 contrast_loss:6.1079\n",
            "100% 50/50 [00:46<00:00,  1.08it/s]\n",
            "Epoch (41)  Loss: l1_loss:0.0289 contrast_loss:5.0306\n",
            "100% 50/50 [00:46<00:00,  1.08it/s]\n",
            "Epoch (42)  Loss: l1_loss:0.0215 contrast_loss:5.3845\n",
            "100% 50/50 [00:46<00:00,  1.08it/s]\n",
            "Epoch (43)  Loss: l1_loss:0.0243 contrast_loss:4.7776\n",
            "100% 50/50 [00:46<00:00,  1.08it/s]\n",
            "Epoch (44)  Loss: l1_loss:0.0263 contrast_loss:6.8632\n",
            "100% 50/50 [00:46<00:00,  1.08it/s]\n",
            "Epoch (45)  Loss: l1_loss:0.0282 contrast_loss:5.7566\n",
            "100% 50/50 [00:46<00:00,  1.08it/s]\n",
            "Epoch (46)  Loss: l1_loss:0.0199 contrast_loss:4.8326\n",
            "100% 50/50 [00:46<00:00,  1.08it/s]\n",
            "Epoch (47)  Loss: l1_loss:0.0234 contrast_loss:4.2013\n",
            "100% 50/50 [00:46<00:00,  1.08it/s]\n",
            "Epoch (48)  Loss: l1_loss:0.0238 contrast_loss:4.3225\n",
            "100% 50/50 [00:46<00:00,  1.08it/s]\n",
            "Epoch (49)  Loss: l1_loss:0.0267 contrast_loss:4.8277\n",
            "100% 50/50 [00:46<00:00,  1.08it/s]\n",
            "Epoch (50)  Loss: l1_loss:0.0241 contrast_loss:4.3287\n",
            "100% 50/50 [00:46<00:00,  1.08it/s]\n",
            "Epoch (51)  Loss: l1_loss:0.0274 contrast_loss:5.9291\n",
            "100% 50/50 [00:46<00:00,  1.08it/s]\n",
            "Epoch (52)  Loss: l1_loss:0.0205 contrast_loss:4.3281\n",
            "100% 50/50 [00:46<00:00,  1.08it/s]\n",
            "Epoch (53)  Loss: l1_loss:0.0239 contrast_loss:5.6636\n",
            "100% 50/50 [00:46<00:00,  1.08it/s]\n",
            "Epoch (54)  Loss: l1_loss:0.0242 contrast_loss:4.4883\n",
            "100% 50/50 [00:46<00:00,  1.08it/s]\n",
            "Epoch (55)  Loss: l1_loss:0.0262 contrast_loss:4.9447\n",
            "100% 50/50 [00:46<00:00,  1.08it/s]\n",
            "Epoch (56)  Loss: l1_loss:0.0290 contrast_loss:4.5669\n",
            "100% 50/50 [00:46<00:00,  1.08it/s]\n",
            "Epoch (57)  Loss: l1_loss:0.0240 contrast_loss:4.3752\n",
            "100% 50/50 [00:46<00:00,  1.08it/s]\n",
            "Epoch (58)  Loss: l1_loss:0.0232 contrast_loss:4.1448\n",
            "100% 50/50 [00:46<00:00,  1.08it/s]\n",
            "Epoch (59)  Loss: l1_loss:0.0210 contrast_loss:4.8180\n",
            "100% 50/50 [00:46<00:00,  1.08it/s]\n",
            "Epoch (60)  Loss: l1_loss:0.0249 contrast_loss:4.7978\n",
            "100% 50/50 [00:46<00:00,  1.08it/s]\n",
            "Epoch (61)  Loss: l1_loss:0.0222 contrast_loss:4.2388\n",
            "100% 50/50 [00:46<00:00,  1.08it/s]\n",
            "Epoch (62)  Loss: l1_loss:0.0238 contrast_loss:3.8211\n",
            "100% 50/50 [00:46<00:00,  1.08it/s]\n",
            "Epoch (63)  Loss: l1_loss:0.0200 contrast_loss:3.6147\n",
            "100% 50/50 [00:46<00:00,  1.08it/s]\n",
            "Epoch (64)  Loss: l1_loss:0.0209 contrast_loss:3.9184\n",
            "100% 50/50 [00:46<00:00,  1.08it/s]\n",
            "Epoch (65)  Loss: l1_loss:0.0208 contrast_loss:6.0046\n",
            "100% 50/50 [00:46<00:00,  1.08it/s]\n",
            "Epoch (66)  Loss: l1_loss:0.0196 contrast_loss:3.3361\n",
            "100% 50/50 [00:46<00:00,  1.08it/s]\n",
            "Epoch (67)  Loss: l1_loss:0.0202 contrast_loss:4.5232\n",
            "100% 50/50 [00:46<00:00,  1.08it/s]\n",
            "Epoch (68)  Loss: l1_loss:0.0188 contrast_loss:4.8770\n",
            "100% 50/50 [00:46<00:00,  1.08it/s]\n",
            "Epoch (69)  Loss: l1_loss:0.0222 contrast_loss:4.2780\n",
            "100% 50/50 [00:46<00:00,  1.08it/s]\n",
            "Epoch (70)  Loss: l1_loss:0.0203 contrast_loss:5.3217\n",
            "100% 50/50 [00:46<00:00,  1.08it/s]\n",
            "Epoch (71)  Loss: l1_loss:0.0174 contrast_loss:4.4058\n",
            "100% 50/50 [00:46<00:00,  1.08it/s]\n",
            "Epoch (72)  Loss: l1_loss:0.0245 contrast_loss:4.3734\n",
            "100% 50/50 [00:46<00:00,  1.08it/s]\n",
            "Epoch (73)  Loss: l1_loss:0.0204 contrast_loss:5.2738\n",
            "100% 50/50 [00:46<00:00,  1.08it/s]\n",
            "Epoch (74)  Loss: l1_loss:0.0187 contrast_loss:4.1937\n",
            "100% 50/50 [00:46<00:00,  1.08it/s]\n",
            "Epoch (75)  Loss: l1_loss:0.0158 contrast_loss:3.8465\n",
            "100% 50/50 [00:46<00:00,  1.08it/s]\n",
            "Epoch (76)  Loss: l1_loss:0.0157 contrast_loss:4.7593\n",
            "100% 50/50 [00:46<00:00,  1.08it/s]\n",
            "Epoch (77)  Loss: l1_loss:0.0206 contrast_loss:4.3262\n",
            "100% 50/50 [00:46<00:00,  1.08it/s]\n",
            "Epoch (78)  Loss: l1_loss:0.0147 contrast_loss:4.9797\n",
            "100% 50/50 [00:46<00:00,  1.08it/s]\n",
            "Epoch (79)  Loss: l1_loss:0.0173 contrast_loss:4.4281\n",
            "100% 50/50 [00:46<00:00,  1.08it/s]\n",
            "Epoch (80)  Loss: l1_loss:0.0170 contrast_loss:3.2371\n",
            "100% 50/50 [00:46<00:00,  1.08it/s]\n",
            "Epoch (81)  Loss: l1_loss:0.0203 contrast_loss:3.6891\n",
            "100% 50/50 [00:46<00:00,  1.08it/s]\n",
            "Epoch (82)  Loss: l1_loss:0.0233 contrast_loss:3.5928\n",
            "100% 50/50 [00:46<00:00,  1.08it/s]\n",
            "Epoch (83)  Loss: l1_loss:0.0168 contrast_loss:6.0158\n",
            "100% 50/50 [00:46<00:00,  1.08it/s]\n",
            "Epoch (84)  Loss: l1_loss:0.0167 contrast_loss:3.8683\n",
            "100% 50/50 [00:46<00:00,  1.08it/s]\n",
            "Epoch (85)  Loss: l1_loss:0.0198 contrast_loss:3.8746\n",
            "100% 50/50 [00:46<00:00,  1.08it/s]\n",
            "Epoch (86)  Loss: l1_loss:0.0173 contrast_loss:3.7760\n",
            "100% 50/50 [00:46<00:00,  1.08it/s]\n",
            "Epoch (87)  Loss: l1_loss:0.0143 contrast_loss:4.9409\n",
            "100% 50/50 [00:46<00:00,  1.08it/s]\n",
            "Epoch (88)  Loss: l1_loss:0.0182 contrast_loss:3.6460\n",
            "100% 50/50 [00:46<00:00,  1.08it/s]\n",
            "Epoch (89)  Loss: l1_loss:0.0134 contrast_loss:4.1138\n",
            "100% 50/50 [00:46<00:00,  1.08it/s]\n",
            "Epoch (90)  Loss: l1_loss:0.0182 contrast_loss:3.9455\n",
            "100% 50/50 [00:46<00:00,  1.08it/s]\n",
            "Epoch (91)  Loss: l1_loss:0.0165 contrast_loss:4.4002\n",
            "100% 50/50 [00:46<00:00,  1.08it/s]\n",
            "Epoch (92)  Loss: l1_loss:0.0198 contrast_loss:4.2646\n",
            "100% 50/50 [00:46<00:00,  1.08it/s]\n",
            "Epoch (93)  Loss: l1_loss:0.0154 contrast_loss:4.3206\n",
            "100% 50/50 [00:46<00:00,  1.08it/s]\n",
            "Epoch (94)  Loss: l1_loss:0.0141 contrast_loss:4.6618\n",
            "100% 50/50 [00:46<00:00,  1.08it/s]\n",
            "Epoch (95)  Loss: l1_loss:0.0131 contrast_loss:4.3135\n",
            "100% 50/50 [00:46<00:00,  1.08it/s]\n",
            "Epoch (96)  Loss: l1_loss:0.0166 contrast_loss:4.8043\n",
            "100% 50/50 [00:46<00:00,  1.08it/s]\n",
            "Epoch (97)  Loss: l1_loss:0.0178 contrast_loss:3.6668\n",
            "100% 50/50 [00:46<00:00,  1.08it/s]\n",
            "Epoch (98)  Loss: l1_loss:0.0141 contrast_loss:4.6572\n",
            "100% 50/50 [00:46<00:00,  1.08it/s]\n",
            "Epoch (99)  Loss: l1_loss:0.0150 contrast_loss:3.1754\n"
          ]
        }
      ]
    },
    {
      "cell_type": "code",
      "source": [
        "!pip install scikit-video"
      ],
      "metadata": {
        "id": "Vc99FXd0Lzdr",
        "outputId": "69612ef9-d3a8-4b95-e313-cbd673749564",
        "colab": {
          "base_uri": "https://localhost:8080/"
        }
      },
      "execution_count": null,
      "outputs": [
        {
          "output_type": "stream",
          "name": "stdout",
          "text": [
            "Collecting scikit-video\n",
            "  Downloading scikit_video-1.1.11-py2.py3-none-any.whl.metadata (1.1 kB)\n",
            "Requirement already satisfied: numpy in /usr/local/lib/python3.10/dist-packages (from scikit-video) (1.26.4)\n",
            "Requirement already satisfied: pillow in /usr/local/lib/python3.10/dist-packages (from scikit-video) (10.4.0)\n",
            "Requirement already satisfied: scipy in /usr/local/lib/python3.10/dist-packages (from scikit-video) (1.13.1)\n",
            "Downloading scikit_video-1.1.11-py2.py3-none-any.whl (2.3 MB)\n",
            "\u001b[?25l   \u001b[90m━━━━━━━━━━━━━━━━━━━━━━━━━━━━━━━━━━━━━━━━\u001b[0m \u001b[32m0.0/2.3 MB\u001b[0m \u001b[31m?\u001b[0m eta \u001b[36m-:--:--\u001b[0m\r\u001b[2K   \u001b[90m━━━━━━━━━━━━━━━━━━━━━━━━━━━━━━━━━━━━━━━━\u001b[0m \u001b[32m2.3/2.3 MB\u001b[0m \u001b[31m80.1 MB/s\u001b[0m eta \u001b[36m0:00:00\u001b[0m\n",
            "\u001b[?25hInstalling collected packages: scikit-video\n",
            "Successfully installed scikit-video-1.1.11\n"
          ]
        }
      ]
    },
    {
      "cell_type": "code",
      "source": [
        "!python test.py --mode=1 --output_path=\"$output_path\" --ckpt_path=\"$ckpt_path\" --derain_path=\"$derain_path\""
      ],
      "metadata": {
        "id": "AKx7d2rGHzXW",
        "outputId": "5f9c6520-7d88-4577-a2a0-f346137abe67",
        "colab": {
          "base_uri": "https://localhost:8080/"
        }
      },
      "execution_count": null,
      "outputs": [
        {
          "output_type": "stream",
          "name": "stdout",
          "text": [
            "/content/drive/MyDrive/Advanced-AI/AirNet/test.py:101: FutureWarning: You are using `torch.load` with `weights_only=False` (the current default value), which uses the default pickle module implicitly. It is possible to construct malicious pickle data which will execute arbitrary code during unpickling (See https://github.com/pytorch/pytorch/blob/main/SECURITY.md#untrusted-models for more details). In a future release, the default value for `weights_only` will be flipped to `True`. This limits the functions that could be executed during unpickling. Arbitrary objects will no longer be allowed to be loaded via this mode unless they are explicitly allowlisted by the user via `torch.serialization.add_safe_globals`. We recommend you start setting `weights_only=True` for any use case where you don't have full control of the loaded file. Please open an issue on GitHub for any issues related to this experimental feature.\n",
            "  net.load_state_dict(torch.load(ckpt_path, map_location=torch.device(opt.cuda)))\n",
            "Traceback (most recent call last):\n",
            "  File \"/content/drive/MyDrive/Advanced-AI/AirNet/test.py\", line 101, in <module>\n",
            "    net.load_state_dict(torch.load(ckpt_path, map_location=torch.device(opt.cuda)))\n",
            "  File \"/usr/local/lib/python3.10/dist-packages/torch/nn/modules/module.py\", line 2215, in load_state_dict\n",
            "    raise RuntimeError('Error(s) in loading state_dict for {}:\\n\\t{}'.format(\n",
            "RuntimeError: Error(s) in loading state_dict for AirNet:\n",
            "\tsize mismatch for E.E.queue: copying a param with shape torch.Size([256, 2048]) from checkpoint, the shape in current model is torch.Size([256, 256]).\n"
          ]
        }
      ]
    }
  ],
  "metadata": {
    "kernelspec": {
      "display_name": "Python 3",
      "name": "python3"
    },
    "language_info": {
      "codemirror_mode": {
        "name": "ipython",
        "version": 3
      },
      "file_extension": ".py",
      "mimetype": "text/x-python",
      "name": "python",
      "nbconvert_exporter": "python",
      "pygments_lexer": "ipython3",
      "version": "3.9.12"
    },
    "colab": {
      "provenance": [],
      "machine_shape": "hm",
      "gpuType": "A100",
      "include_colab_link": true
    },
    "accelerator": "GPU"
  },
  "nbformat": 4,
  "nbformat_minor": 0
}